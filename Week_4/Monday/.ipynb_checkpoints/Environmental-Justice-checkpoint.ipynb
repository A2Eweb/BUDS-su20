{
 "cells": [
  {
   "cell_type": "markdown",
   "metadata": {},
   "source": [
    "# Monday - Environmental Justice!"
   ]
  },
  {
   "cell_type": "code",
   "execution_count": 18,
   "metadata": {},
   "outputs": [
    {
     "ename": "SyntaxError",
     "evalue": "invalid syntax (functions.ipynb, line 11)",
     "output_type": "error",
     "traceback": [
      "Traceback \u001b[0;36m(most recent call last)\u001b[0m:\n",
      "  File \u001b[1;32m\"/srv/app/venv/lib/python3.6/site-packages/IPython/core/interactiveshell.py\"\u001b[0m, line \u001b[1;32m3331\u001b[0m, in \u001b[1;35mrun_code\u001b[0m\n    exec(code_obj, self.user_global_ns, self.user_ns)\n",
      "  File \u001b[1;32m\"<ipython-input-18-1a41ec4fe1b6>\"\u001b[0m, line \u001b[1;32m5\u001b[0m, in \u001b[1;35m<module>\u001b[0m\n    from ipynb.fs.full.functions import *\n",
      "  File \u001b[1;32m\"<frozen importlib._bootstrap>\"\u001b[0m, line \u001b[1;32m971\u001b[0m, in \u001b[1;35m_find_and_load\u001b[0m\n",
      "  File \u001b[1;32m\"<frozen importlib._bootstrap>\"\u001b[0m, line \u001b[1;32m955\u001b[0m, in \u001b[1;35m_find_and_load_unlocked\u001b[0m\n",
      "  File \u001b[1;32m\"<frozen importlib._bootstrap>\"\u001b[0m, line \u001b[1;32m665\u001b[0m, in \u001b[1;35m_load_unlocked\u001b[0m\n",
      "  File \u001b[1;32m\"<frozen importlib._bootstrap_external>\"\u001b[0m, line \u001b[1;32m674\u001b[0m, in \u001b[1;35mexec_module\u001b[0m\n",
      "\u001b[0;36m  File \u001b[0;32m\"/srv/app/venv/lib/python3.6/site-packages/ipynb/fs/full/__init__.py\"\u001b[0;36m, line \u001b[0;32m43\u001b[0;36m, in \u001b[0;35mget_code\u001b[0;36m\u001b[0m\n\u001b[0;31m    return self.source_to_code(code_from_ipynb(nb), self.path)\u001b[0m\n",
      "\u001b[0;36m  File \u001b[0;32m\"/home/jovyan/BUDS-su20/Week_4/Monday/functions.ipynb\"\u001b[0;36m, line \u001b[0;32m11\u001b[0m\n\u001b[0;31m    \"from datascience import *\\n\",\u001b[0m\n\u001b[0m    ^\u001b[0m\n\u001b[0;31mSyntaxError\u001b[0m\u001b[0;31m:\u001b[0m invalid syntax\n"
     ]
    }
   ],
   "source": [
    "# These are tools we will use later. Just run the cell.\n",
    "import numpy as np\n",
    "import matplotlib.pyplot as plots\n",
    "from datascience import *\n",
    "import statsmodels.formula.api as sm\n",
    "%run functions.ipynb\n",
    "%matplotlib inline \n",
    "plots.style.use(\"fivethirtyeight\")"
   ]
  },
  {
   "cell_type": "markdown",
   "metadata": {},
   "source": [
    "## 1. Correlation\n",
    "\n",
    "Correlation is used to test relationships between quantitative variables or categorical variables. In other words, it’s a measure of how things are related. The study of how variables are correlated is called correlation analysis.\n",
    "\n",
    "Some examples of data that have a high correlation:\n",
    "\n",
    "    Your caloric intake vs. your weight.\n",
    "    Your eye color vs. your relatives’ eye colors.\n",
    "    The amount of time you study vs. your GPA.\n",
    "    Alcohol consumed vs. your blood alcohol content.\n",
    "\n",
    "Some examples of data that have a low correlation (or none at all):\n",
    "\n",
    "    Your sexual preference vs. the type of cereal you eat.\n",
    "    A dog’s name vs. the type of dog biscuit they prefer.\n",
    "    The cost of a car wash vs. how long it takes to buy a soda inside the station.\n",
    "\n",
    "Correlations are useful because if you can find out what relationship variables have, you can make predictions about future behavior. Knowing what the future holds is very important in the social sciences like government and healthcare.\n",
    "\n",
    "You make decisions based on relationships of two events all the time: if it's 2pm on a Thursday of Deadweek, you predict the number of seats avaiable in Moffitt Floor 5 would be close to none and would think twice about trying your luck there. As simple as this is, this is correlation and prediction at work: time of semester vs. the number of seats available in Moffitt Floor 5. This is exacltly what we are going in this lecture -- **the correlation coefficient simply assigns a number to the *type* and *strength* of a relationship between two events**."
   ]
  },
  {
   "cell_type": "markdown",
   "metadata": {},
   "source": [
    "The **correlation coefficient** ( r ) puts a value to the relationship and shows how strong it is. The value is between -1 and 1 where 0 is no relationship, -1 is a perfect negative relationship, and 1 is a perfect positive relationship. Correlation is also necessary for regression (which we will get to later)."
   ]
  },
  {
   "cell_type": "markdown",
   "metadata": {},
   "source": [
    "![image](images/correlation-examples.svg)"
   ]
  },
  {
   "cell_type": "markdown",
   "metadata": {},
   "source": [
    "If we wanted to look at the relationship between two of the variables in our dataset, we could calculate the correlation. For example, asking how race is related to a particular health factor, such as asthma."
   ]
  },
  {
   "cell_type": "code",
   "execution_count": 13,
   "metadata": {},
   "outputs": [
    {
     "data": {
      "text/html": [
       "<table border=\"1\" class=\"dataframe\">\n",
       "    <thead>\n",
       "        <tr>\n",
       "            <th>census_tract</th> <th>hispanic</th> <th>white</th> <th>african_american</th> <th>native_american</th> <th>asian_american</th> <th>other</th> <th>unemployment</th> <th>poverty</th> <th>ces_pollution_score</th> <th>ozone</th> <th>pesticides</th> <th>tox_release</th> <th>asthma</th> <th>cardiovascular_disease</th> <th>low_birth_weight</th>\n",
       "        </tr>\n",
       "    </thead>\n",
       "    <tbody>\n",
       "        <tr>\n",
       "            <td>6.019e+09   </td> <td>65.3    </td> <td>4.2  </td> <td>24.6            </td> <td>0.5            </td> <td>3.5           </td> <td>1.8  </td> <td>17.6        </td> <td>76.3   </td> <td>94.09              </td> <td>0.065</td> <td>2.75      </td> <td>18552      </td> <td>131.64</td> <td>14.13                 </td> <td>7.44            </td>\n",
       "        </tr>\n",
       "        <tr>\n",
       "            <td>6.071e+09   </td> <td>91.1    </td> <td>5.8  </td> <td>0.7             </td> <td>0.3            </td> <td>1.4           </td> <td>0.7  </td> <td>12.3        </td> <td>72.5   </td> <td>90.68              </td> <td>0.062</td> <td>1.37      </td> <td>7494.24    </td> <td>60.66 </td> <td>12.94                 </td> <td>7.04            </td>\n",
       "        </tr>\n",
       "        <tr>\n",
       "            <td>6.019e+09   </td> <td>63.6    </td> <td>5.3  </td> <td>18.9            </td> <td>0.6            </td> <td>9.8           </td> <td>1.8  </td> <td>16.1        </td> <td>86.8   </td> <td>85.97              </td> <td>0.062</td> <td>3.03      </td> <td>12454.9    </td> <td>142.12</td> <td>14.96                 </td> <td>10.16           </td>\n",
       "        </tr>\n",
       "        <tr>\n",
       "            <td>6.077e+09   </td> <td>57.4    </td> <td>6    </td> <td>12.5            </td> <td>0.3            </td> <td>20.9          </td> <td>2.8  </td> <td>19.6        </td> <td>61.3   </td> <td>82.49              </td> <td>0.046</td> <td>12.93     </td> <td>2387.78    </td> <td>142.17</td> <td>14.72                 </td> <td>6.23            </td>\n",
       "        </tr>\n",
       "        <tr>\n",
       "            <td>6.019e+09   </td> <td>71.8    </td> <td>21.4 </td> <td>1.2             </td> <td>0.5            </td> <td>4.5           </td> <td>0.6  </td> <td>18.6        </td> <td>66.4   </td> <td>82.03              </td> <td>0.065</td> <td>3518.41   </td> <td>21790.7    </td> <td>90.48 </td> <td>12.82                 </td> <td>4.5             </td>\n",
       "        </tr>\n",
       "    </tbody>\n",
       "</table>\n",
       "<p>... (7552 rows omitted)</p>"
      ],
      "text/plain": [
       "<IPython.core.display.HTML object>"
      ]
     },
     "metadata": {},
     "output_type": "display_data"
    }
   ],
   "source": [
    "clean_ces_data = Table.read_table(\"data/cleaned_data_new.csv\")\n",
    "clean_ces_data.show(5)"
   ]
  },
  {
   "cell_type": "code",
   "execution_count": 14,
   "metadata": {},
   "outputs": [],
   "source": [
    "clean_ces_data.scatter(\"ces_pollution_score\", \"asthma\", alpha = .18, s = 10)"
   ]
  },
  {
   "cell_type": "markdown",
   "metadata": {},
   "source": [
    "#### Based on this scatter plot, what do you think the r-value is?\n",
    "In other words, about how closely are pollution and asthma related? Compare this graph with the charts above to help you identify the **type** (Positive? Negative?) and **strength** (value) of the relationship."
   ]
  },
  {
   "cell_type": "markdown",
   "metadata": {},
   "source": [
    "*Your Guess Here*"
   ]
  },
  {
   "cell_type": "markdown",
   "metadata": {},
   "source": [
    "#### Correlation Function!\n",
    "\n",
    "To see how well your guess matches the actual r-value, we can use the `correlation` function defined below. For the purposes of this lecture on your lab, don't worry about **how** we calculate correlation. If you're interested in the math behind the calculation, take an into to statistics class (Stat 20, Data 8, etc)!\n",
    "\n",
    "Read how to **use** the function (written in red, under the `def` statement). We'll use this function to calculate the actual correlation coefficient between the pollution score and asthma. Remember:\n",
    "* `Parameters` tell you what goes **into** the function\n",
    "* `Returns` tells you what the function **outputs**\n",
    "* `Example` provides an example of the function in use"
   ]
  },
  {
   "cell_type": "code",
   "execution_count": 15,
   "metadata": {},
   "outputs": [],
   "source": [
    "#This is a helper function we use to define the correlation equation: you can ignore this for the purposes of this class\n",
    "#def standard_units(xyz): \n",
    "#    return (xyz - np.mean(xyz))/np.std(xyz) "
   ]
  },
  {
   "cell_type": "code",
   "execution_count": 16,
   "metadata": {},
   "outputs": [
    {
     "data": {
      "text/plain": [
       "\"Calculates the correlation coefficient between two variables in a table\\n    \\n            Parameters\\n            ----------\\n            table:\\n                The data table containing the column to be repeated.\\n            label_x: \\n                The the name of a column (in quotes) of the table containing one of the variables of interest\\n            label_y: \\n                The the name of another column (in quotes) of the table containing the other variables of interest\\n        \\n            Returns\\n            -------\\n            int\\n                A single numeric value which is the correlation coefficient between `label_x` and `label_y`\\n        \\n            Example\\n            -------\\n            >>> correlation(clean_ces_data, 'unemployment', 'poverty')\\n    \\n            0.6046862173005914    \\n            \""
      ]
     },
     "execution_count": 16,
     "metadata": {},
     "output_type": "execute_result"
    }
   ],
   "source": [
    "#Read the doc string for this function!\n",
    "#def correlation(table, label_x, label_y):\n",
    "    \"\"\"Calculates the correlation coefficient between two variables in a table\n",
    "    \n",
    "    Parameters\n",
    "    ----------\n",
    "    table:\n",
    "        The data table containing the column to be repeated.\n",
    "    label_x: \n",
    "        The the name of a column (in quotes) of the table containing one of the variables of interest\n",
    "    label_y: \n",
    "        The the name of another column (in quotes) of the table containing the other variables of interest\n",
    "        \n",
    "    Returns\n",
    "    -------\n",
    "    int\n",
    "        A single numeric value which is the correlation coefficient between `label_x` and `label_y`\n",
    "        \n",
    "    Example\n",
    "    -------\n",
    "    >>> correlation(clean_ces_data, 'unemployment', 'poverty')\n",
    "    \n",
    "    0.6046862173005914    \n",
    "    \"\"\"\n",
    "#    return np.mean(standard_units(table.column(label_x))*standard_units(table.column(label_y)))"
   ]
  },
  {
   "cell_type": "code",
   "execution_count": 17,
   "metadata": {},
   "outputs": [
    {
     "ename": "NameError",
     "evalue": "name 'correlation' is not defined",
     "output_type": "error",
     "traceback": [
      "\u001b[0;31m---------------------------------------------------------------------------\u001b[0m",
      "\u001b[0;31mNameError\u001b[0m                                 Traceback (most recent call last)",
      "\u001b[0;32m<ipython-input-17-6c5a65759e25>\u001b[0m in \u001b[0;36m<module>\u001b[0;34m\u001b[0m\n\u001b[1;32m      1\u001b[0m \u001b[0;31m#Run me to find the actual correlation coefficient!\u001b[0m\u001b[0;34m\u001b[0m\u001b[0;34m\u001b[0m\u001b[0;34m\u001b[0m\u001b[0m\n\u001b[0;32m----> 2\u001b[0;31m \u001b[0mcorrelation\u001b[0m\u001b[0;34m(\u001b[0m\u001b[0mclean_ces_data\u001b[0m\u001b[0;34m,\u001b[0m \u001b[0;34m'ces_pollution_score'\u001b[0m\u001b[0;34m,\u001b[0m \u001b[0;34m'asthma'\u001b[0m\u001b[0;34m)\u001b[0m\u001b[0;34m\u001b[0m\u001b[0;34m\u001b[0m\u001b[0m\n\u001b[0m",
      "\u001b[0;31mNameError\u001b[0m: name 'correlation' is not defined"
     ]
    }
   ],
   "source": [
    "#Run me to find the actual correlation coefficient!\n",
    "correlation(clean_ces_data, 'ces_pollution_score', 'asthma')"
   ]
  },
  {
   "cell_type": "markdown",
   "metadata": {},
   "source": [
    "It's certainly not perfect -- if you are given a pollution score, you can't say that the number of reported asthma attacks **will definitely** be \\_\\_. However, you can see (both from the plot and from the calculated r-value) that there is a positive relationship between a census tract's pollution score and the number of reported asthma attacks."
   ]
  },
  {
   "cell_type": "markdown",
   "metadata": {},
   "source": [
    "`r:  0.5452274394377603`\n",
    "`r-squared: 0.297`\n",
    "\n",
    "How good do you think our predictive model is, given that our r-squared value is 0.297?\n",
    "\n",
    "---\n",
    "\n",
    "## 3. Your Turn!\n",
    "\n",
    "In previous example, we explored the relationship between an environmental outcome and a health issue. Now let's look at how this health issue compares with a certain demographic."
   ]
  },
  {
   "cell_type": "code",
   "execution_count": 57,
   "metadata": {},
   "outputs": [
    {
     "ename": "NameError",
     "evalue": "name 'np' is not defined",
     "output_type": "error",
     "traceback": [
      "\u001b[0;31m---------------------------------------------------------------------------\u001b[0m",
      "\u001b[0;31mNameError\u001b[0m                                 Traceback (most recent call last)",
      "\u001b[0;32m<ipython-input-57-ee787d86baa2>\u001b[0m in \u001b[0;36m<module>\u001b[0;34m\u001b[0m\n\u001b[1;32m      1\u001b[0m \u001b[0;31m# This will find the correlation coefficient between African Americans and Asthma.\u001b[0m\u001b[0;34m\u001b[0m\u001b[0;34m\u001b[0m\u001b[0;34m\u001b[0m\u001b[0m\n\u001b[0;32m----> 2\u001b[0;31m \u001b[0mprint\u001b[0m\u001b[0;34m(\u001b[0m\u001b[0;34m'r: '\u001b[0m\u001b[0;34m,\u001b[0m \u001b[0mcorrelation\u001b[0m\u001b[0;34m(\u001b[0m\u001b[0mclean_ces_data\u001b[0m\u001b[0;34m,\u001b[0m \u001b[0;34m'african_american'\u001b[0m\u001b[0;34m,\u001b[0m \u001b[0;34m'asthma'\u001b[0m\u001b[0;34m)\u001b[0m\u001b[0;34m)\u001b[0m\u001b[0;34m\u001b[0m\u001b[0;34m\u001b[0m\u001b[0m\n\u001b[0m\u001b[1;32m      3\u001b[0m \u001b[0mclean_ces_data\u001b[0m\u001b[0;34m.\u001b[0m\u001b[0mscatter\u001b[0m\u001b[0;34m(\u001b[0m\u001b[0;34m\"african_american\"\u001b[0m\u001b[0;34m,\u001b[0m \u001b[0;34m\"asthma\"\u001b[0m\u001b[0;34m,\u001b[0m \u001b[0malpha\u001b[0m \u001b[0;34m=\u001b[0m \u001b[0;36m.18\u001b[0m\u001b[0;34m,\u001b[0m \u001b[0ms\u001b[0m \u001b[0;34m=\u001b[0m \u001b[0;36m10\u001b[0m\u001b[0;34m)\u001b[0m\u001b[0;34m\u001b[0m\u001b[0;34m\u001b[0m\u001b[0m\n",
      "\u001b[0;32m~/BUDS-su20/Week_4/Monday/functions.ipynb\u001b[0m in \u001b[0;36mcorrelation\u001b[0;34m(table, label_x, label_y)\u001b[0m\n\u001b[1;32m     32\u001b[0m    \u001b[0;34m\"metadata\"\u001b[0m\u001b[0;34m:\u001b[0m \u001b[0;34m{\u001b[0m\u001b[0;34m}\u001b[0m\u001b[0;34m,\u001b[0m\u001b[0;34m\u001b[0m\u001b[0;34m\u001b[0m\u001b[0m\n\u001b[1;32m     33\u001b[0m    \u001b[0;34m\"outputs\"\u001b[0m\u001b[0;34m:\u001b[0m \u001b[0;34m[\u001b[0m\u001b[0;34m]\u001b[0m\u001b[0;34m,\u001b[0m\u001b[0;34m\u001b[0m\u001b[0;34m\u001b[0m\u001b[0m\n\u001b[0;32m---> 34\u001b[0;31m    \"source\": [\n\u001b[0m\u001b[1;32m     35\u001b[0m     \u001b[0;34m\"#Read the doc string for this function!\\n\"\u001b[0m\u001b[0;34m,\u001b[0m\u001b[0;34m\u001b[0m\u001b[0;34m\u001b[0m\u001b[0m\n\u001b[1;32m     36\u001b[0m     \u001b[0;34m\"def correlation(table, label_x, label_y):\\n\"\u001b[0m\u001b[0;34m,\u001b[0m\u001b[0;34m\u001b[0m\u001b[0;34m\u001b[0m\u001b[0m\n",
      "\u001b[0;31mNameError\u001b[0m: name 'np' is not defined"
     ]
    }
   ],
   "source": [
    "# This will find the correlation coefficient between African Americans and Asthma.\n",
    "print('r: ', correlation(clean_ces_data, 'african_american', 'asthma'))\n",
    "clean_ces_data.scatter(\"african_american\", \"asthma\", alpha = .18, s = 10)"
   ]
  },
  {
   "cell_type": "markdown",
   "metadata": {},
   "source": [
    "`r:  0.4986847676603604`"
   ]
  },
  {
   "cell_type": "markdown",
   "metadata": {},
   "source": [
    "Since our r-value is low (far from 1) it shows us that we need to conduct more analysis because a single variable is not sufficient to predict asthma. Usually, there are multiple factors that affect an outcome so it makes sense that we need to do more than a simple analysis."
   ]
  },
  {
   "cell_type": "markdown",
   "metadata": {},
   "source": [
    "---\n",
    "\n",
    "**CONGRATULATIONS!!!** You've made it through an introduction to correlation! \n",
    "\n",
    "---\n",
    "\n",
    "**Citation:**\n",
    "\n",
    "- [DS Modules](https://github.com/ds-modules)\n",
    "- Online Statistics Education: A Multimedia Course of Study (http://onlinestatbook.com/)\n",
    "- Pierce, Rod. \"Correlation\" Math Is Fun. Ed. Rod Pierce. 5 Nov 2018. 16 Feb 2019 <http://www.mathsisfun.com/data/correlation.html>\n",
    "\n",
    "*Notebook developed by: Aarish Irfan, Alleanna Clark & Keiko Kamei*"
   ]
  }
 ],
 "metadata": {
  "kernelspec": {
   "display_name": "Python 3",
   "language": "python",
   "name": "python3"
  },
  "language_info": {
   "codemirror_mode": {
    "name": "ipython",
    "version": 3
   },
   "file_extension": ".py",
   "mimetype": "text/x-python",
   "name": "python",
   "nbconvert_exporter": "python",
   "pygments_lexer": "ipython3",
   "version": "3.6.9"
  }
 },
 "nbformat": 4,
 "nbformat_minor": 2
}

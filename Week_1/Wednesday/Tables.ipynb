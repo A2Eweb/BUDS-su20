{
 "cells": [
  {
   "cell_type": "markdown",
   "metadata": {},
   "source": [
    "# Tables: Part 1\n",
    "\n",
    "\n",
    "### Table of Contents\n",
    "\n",
    "1. <a href='#section 2'>Tables</a>\n",
    "\n",
    "    a. <a href='#subsection 2a'>Attributes</a>\n",
    "\n",
    "    b. <a href='#subsection 2b'>Transformations</a><br><br>\n",
    "\n",
    "2. <a href='#section 3'>Coming Soon...</a>"
   ]
  },
  {
   "cell_type": "code",
   "execution_count": 6,
   "metadata": {},
   "outputs": [],
   "source": [
    "# dependencies: THIS CELL MUST BE RUN\n",
    "from datascience import *\n",
    "import numpy as np\n",
    "import math\n",
    "import matplotlib.pyplot as plt\n",
    "plt.style.use('fivethirtyeight')\n",
    "import ipywidgets as widgets\n",
    "%matplotlib inline"
   ]
  },
  {
   "cell_type": "markdown",
   "metadata": {},
   "source": [
    "## 1. Tables <a id='section 2'></a>\n",
    "\n",
    "The last section covered four basic concepts of python: data, expressions, names, and functions. In this next section, we'll see just how much we can do to examine and manipulate our data with only these minimal Python skills."
   ]
  },
  {
   "cell_type": "markdown",
   "metadata": {},
   "source": [
    "**Tables** are fundamental ways of organizing and displaying data. Run the next cell to load the data."
   ]
  },
  {
   "cell_type": "code",
   "execution_count": 7,
   "metadata": {},
   "outputs": [
    {
     "data": {
      "text/html": [
       "<table border=\"1\" class=\"dataframe\">\n",
       "    <thead>\n",
       "        <tr>\n",
       "            <th>Votes</th> <th>Rank</th> <th>Title</th> <th>Year</th> <th>Decade</th>\n",
       "        </tr>\n",
       "    </thead>\n",
       "    <tbody>\n",
       "        <tr>\n",
       "            <td>88355 </td> <td>8.4 </td> <td>M (1931)                    </td> <td>1931</td> <td>1930  </td>\n",
       "        </tr>\n",
       "        <tr>\n",
       "            <td>132823</td> <td>8.3 </td> <td>Singin' in the Rain (1952)  </td> <td>1952</td> <td>1950  </td>\n",
       "        </tr>\n",
       "        <tr>\n",
       "            <td>74178 </td> <td>8.3 </td> <td>All About Eve (1950)        </td> <td>1950</td> <td>1950  </td>\n",
       "        </tr>\n",
       "        <tr>\n",
       "            <td>635139</td> <td>8.6 </td> <td>Léon (1994)                 </td> <td>1994</td> <td>1990  </td>\n",
       "        </tr>\n",
       "        <tr>\n",
       "            <td>145514</td> <td>8.2 </td> <td>The Elephant Man (1980)     </td> <td>1980</td> <td>1980  </td>\n",
       "        </tr>\n",
       "        <tr>\n",
       "            <td>425461</td> <td>8.3 </td> <td>Full Metal Jacket (1987)    </td> <td>1987</td> <td>1980  </td>\n",
       "        </tr>\n",
       "        <tr>\n",
       "            <td>441174</td> <td>8.1 </td> <td>Gone Girl (2014)            </td> <td>2014</td> <td>2010  </td>\n",
       "        </tr>\n",
       "        <tr>\n",
       "            <td>850601</td> <td>8.3 </td> <td>Batman Begins (2005)        </td> <td>2005</td> <td>2000  </td>\n",
       "        </tr>\n",
       "        <tr>\n",
       "            <td>37664 </td> <td>8.2 </td> <td>Judgment at Nuremberg (1961)</td> <td>1961</td> <td>1960  </td>\n",
       "        </tr>\n",
       "        <tr>\n",
       "            <td>46987 </td> <td>8   </td> <td>Relatos salvajes (2014)     </td> <td>2014</td> <td>2010  </td>\n",
       "        </tr>\n",
       "    </tbody>\n",
       "</table>\n",
       "<p>... (240 rows omitted)</p>"
      ],
      "text/plain": [
       "Votes  | Rank | Title                        | Year | Decade\n",
       "88355  | 8.4  | M (1931)                     | 1931 | 1930\n",
       "132823 | 8.3  | Singin' in the Rain (1952)   | 1952 | 1950\n",
       "74178  | 8.3  | All About Eve (1950)         | 1950 | 1950\n",
       "635139 | 8.6  | Léon (1994)                  | 1994 | 1990\n",
       "145514 | 8.2  | The Elephant Man (1980)      | 1980 | 1980\n",
       "425461 | 8.3  | Full Metal Jacket (1987)     | 1987 | 1980\n",
       "441174 | 8.1  | Gone Girl (2014)             | 2014 | 2010\n",
       "850601 | 8.3  | Batman Begins (2005)         | 2005 | 2000\n",
       "37664  | 8.2  | Judgment at Nuremberg (1961) | 1961 | 1960\n",
       "46987  | 8    | Relatos salvajes (2014)      | 2014 | 2010\n",
       "... (240 rows omitted)"
      ]
     },
     "execution_count": 7,
     "metadata": {},
     "output_type": "execute_result"
    }
   ],
   "source": [
    "ratings = Table.read_table(\"data/imdb_ratings.csv\")\n",
    "ratings"
   ]
  },
  {
   "cell_type": "markdown",
   "metadata": {},
   "source": [
    "This table is organized into **columns**: one for each *category* of information collected:\n",
    "\n",
    "You can also think about the table in terms of its **rows**. Each row represents all the information collected about a particular instance, which can be a person, location, action, or other unit. \n",
    "\n",
    "What do the rows in this table represent?\n",
    "\n",
    "By default only the first ten rows are shown. Can you see how many rows there are in total?"
   ]
  },
  {
   "cell_type": "markdown",
   "metadata": {},
   "source": [
    "### 2a. Table Attributes <a id='subsection 2a'></a>\n",
    "\n",
    "Every table has **attributes** that give information about the table, like the number of rows and the number of columns. Table attributes are accessed using the dot method. But, since an attribute doesn't perform an operation on the table, there are no parentheses (like there would be in a call expression).\n",
    "\n",
    "Attributes you'll use frequently include `num_rows` and `num_columns`, which give the number of rows and columns in the table, respectively."
   ]
  },
  {
   "cell_type": "code",
   "execution_count": 8,
   "metadata": {},
   "outputs": [
    {
     "data": {
      "text/plain": [
       "5"
      ]
     },
     "execution_count": 8,
     "metadata": {},
     "output_type": "execute_result"
    }
   ],
   "source": [
    "# get the number of columns\n",
    "ratings.num_columns"
   ]
  },
  {
   "cell_type": "markdown",
   "metadata": {},
   "source": [
    "<div class=\"alert alert-warning\">\n",
    "<b>PRACTICE:</b> Use `num_rows` to get the number of rows in our table.\n",
    "</div>"
   ]
  },
  {
   "cell_type": "code",
   "execution_count": 9,
   "metadata": {},
   "outputs": [],
   "source": [
    "# get the number of rows in the table\n"
   ]
  },
  {
   "cell_type": "markdown",
   "metadata": {},
   "source": [
    "### 2b. Table Transformation <a id='subsection 2b'></a>\n",
    "\n",
    "Not all of our columns are relevant to every question we want to ask. We can save computational resources and avoid confusion by *transforming* our table before we start work.\n",
    "\n",
    "#### Subsetting columns with `select` and `drop`\n",
    "The `select` function is used to get a table containing only particular columns. `select` is called on a table using dot notation and takes one or more arguments: the name or names of the column or columns you want."
   ]
  },
  {
   "cell_type": "code",
   "execution_count": 10,
   "metadata": {},
   "outputs": [
    {
     "data": {
      "text/html": [
       "<table border=\"1\" class=\"dataframe\">\n",
       "    <thead>\n",
       "        <tr>\n",
       "            <th>Votes</th> <th>Title</th>\n",
       "        </tr>\n",
       "    </thead>\n",
       "    <tbody>\n",
       "        <tr>\n",
       "            <td>88355 </td> <td>M (1931)                    </td>\n",
       "        </tr>\n",
       "        <tr>\n",
       "            <td>132823</td> <td>Singin' in the Rain (1952)  </td>\n",
       "        </tr>\n",
       "        <tr>\n",
       "            <td>74178 </td> <td>All About Eve (1950)        </td>\n",
       "        </tr>\n",
       "        <tr>\n",
       "            <td>635139</td> <td>Léon (1994)                 </td>\n",
       "        </tr>\n",
       "        <tr>\n",
       "            <td>145514</td> <td>The Elephant Man (1980)     </td>\n",
       "        </tr>\n",
       "        <tr>\n",
       "            <td>425461</td> <td>Full Metal Jacket (1987)    </td>\n",
       "        </tr>\n",
       "        <tr>\n",
       "            <td>441174</td> <td>Gone Girl (2014)            </td>\n",
       "        </tr>\n",
       "        <tr>\n",
       "            <td>850601</td> <td>Batman Begins (2005)        </td>\n",
       "        </tr>\n",
       "        <tr>\n",
       "            <td>37664 </td> <td>Judgment at Nuremberg (1961)</td>\n",
       "        </tr>\n",
       "        <tr>\n",
       "            <td>46987 </td> <td>Relatos salvajes (2014)     </td>\n",
       "        </tr>\n",
       "    </tbody>\n",
       "</table>\n",
       "<p>... (240 rows omitted)</p>"
      ],
      "text/plain": [
       "Votes  | Title\n",
       "88355  | M (1931)\n",
       "132823 | Singin' in the Rain (1952)\n",
       "74178  | All About Eve (1950)\n",
       "635139 | Léon (1994)\n",
       "145514 | The Elephant Man (1980)\n",
       "425461 | Full Metal Jacket (1987)\n",
       "441174 | Gone Girl (2014)\n",
       "850601 | Batman Begins (2005)\n",
       "37664  | Judgment at Nuremberg (1961)\n",
       "46987  | Relatos salvajes (2014)\n",
       "... (240 rows omitted)"
      ]
     },
     "execution_count": 10,
     "metadata": {},
     "output_type": "execute_result"
    }
   ],
   "source": [
    "# make a new table with only selected columns\n",
    "ratings.select(\"Votes\", \"Title\")"
   ]
  },
  {
   "cell_type": "markdown",
   "metadata": {},
   "source": [
    "If instead you need all columns except a few, the `drop` function can get rid of specified columns. `drop` works very similarly to `select`: call it on the table using dot notation, then give it the name or names of what you want to drop."
   ]
  },
  {
   "cell_type": "code",
   "execution_count": 11,
   "metadata": {},
   "outputs": [
    {
     "data": {
      "text/html": [
       "<table border=\"1\" class=\"dataframe\">\n",
       "    <thead>\n",
       "        <tr>\n",
       "            <th>Votes</th> <th>Rank</th> <th>Title</th> <th>Year</th>\n",
       "        </tr>\n",
       "    </thead>\n",
       "    <tbody>\n",
       "        <tr>\n",
       "            <td>88355 </td> <td>8.4 </td> <td>M (1931)                    </td> <td>1931</td>\n",
       "        </tr>\n",
       "        <tr>\n",
       "            <td>132823</td> <td>8.3 </td> <td>Singin' in the Rain (1952)  </td> <td>1952</td>\n",
       "        </tr>\n",
       "        <tr>\n",
       "            <td>74178 </td> <td>8.3 </td> <td>All About Eve (1950)        </td> <td>1950</td>\n",
       "        </tr>\n",
       "        <tr>\n",
       "            <td>635139</td> <td>8.6 </td> <td>Léon (1994)                 </td> <td>1994</td>\n",
       "        </tr>\n",
       "        <tr>\n",
       "            <td>145514</td> <td>8.2 </td> <td>The Elephant Man (1980)     </td> <td>1980</td>\n",
       "        </tr>\n",
       "        <tr>\n",
       "            <td>425461</td> <td>8.3 </td> <td>Full Metal Jacket (1987)    </td> <td>1987</td>\n",
       "        </tr>\n",
       "        <tr>\n",
       "            <td>441174</td> <td>8.1 </td> <td>Gone Girl (2014)            </td> <td>2014</td>\n",
       "        </tr>\n",
       "        <tr>\n",
       "            <td>850601</td> <td>8.3 </td> <td>Batman Begins (2005)        </td> <td>2005</td>\n",
       "        </tr>\n",
       "        <tr>\n",
       "            <td>37664 </td> <td>8.2 </td> <td>Judgment at Nuremberg (1961)</td> <td>1961</td>\n",
       "        </tr>\n",
       "        <tr>\n",
       "            <td>46987 </td> <td>8   </td> <td>Relatos salvajes (2014)     </td> <td>2014</td>\n",
       "        </tr>\n",
       "    </tbody>\n",
       "</table>\n",
       "<p>... (240 rows omitted)</p>"
      ],
      "text/plain": [
       "Votes  | Rank | Title                        | Year\n",
       "88355  | 8.4  | M (1931)                     | 1931\n",
       "132823 | 8.3  | Singin' in the Rain (1952)   | 1952\n",
       "74178  | 8.3  | All About Eve (1950)         | 1950\n",
       "635139 | 8.6  | Léon (1994)                  | 1994\n",
       "145514 | 8.2  | The Elephant Man (1980)      | 1980\n",
       "425461 | 8.3  | Full Metal Jacket (1987)     | 1987\n",
       "441174 | 8.1  | Gone Girl (2014)             | 2014\n",
       "850601 | 8.3  | Batman Begins (2005)         | 2005\n",
       "37664  | 8.2  | Judgment at Nuremberg (1961) | 1961\n",
       "46987  | 8    | Relatos salvajes (2014)      | 2014\n",
       "... (240 rows omitted)"
      ]
     },
     "execution_count": 11,
     "metadata": {},
     "output_type": "execute_result"
    }
   ],
   "source": [
    "# drop a column\n",
    "ratings.drop(\"Decade\")"
   ]
  },
  {
   "cell_type": "markdown",
   "metadata": {},
   "source": [
    "<div class=\"alert alert-warning\">\n",
    "<b>PRACTICE:</b> Pick two columns from our table. Create a new table containing only those two columns two different ways: once using `select` and once using `drop`. \n",
    "</div>"
   ]
  },
  {
   "cell_type": "code",
   "execution_count": 12,
   "metadata": {},
   "outputs": [],
   "source": [
    "# use select\n",
    "..."
   ]
  },
  {
   "cell_type": "code",
   "execution_count": 13,
   "metadata": {},
   "outputs": [],
   "source": [
    "# use drop\n",
    "..."
   ]
  },
  {
   "cell_type": "markdown",
   "metadata": {},
   "source": [
    "#### Filtering rows with `where`\n",
    "Some analysis questions only deal with a subset of rows.\n",
    "\n",
    "The **`where`** function allows us to choose certain rows based on two arguments:\n",
    "- A column label\n",
    "- A condition that each row should match, called the _predicate_ \n",
    "\n",
    "In other words, we call the `where` function like so: `table_name.where(column_name, predicate)`.\n"
   ]
  },
  {
   "cell_type": "code",
   "execution_count": 14,
   "metadata": {},
   "outputs": [
    {
     "data": {
      "text/html": [
       "<table border=\"1\" class=\"dataframe\">\n",
       "    <thead>\n",
       "        <tr>\n",
       "            <th>Votes</th> <th>Rank</th> <th>Title</th> <th>Year</th> <th>Decade</th>\n",
       "        </tr>\n",
       "    </thead>\n",
       "    <tbody>\n",
       "        <tr>\n",
       "            <td>132823</td> <td>8.3 </td> <td>Singin' in the Rain (1952)</td> <td>1952</td> <td>1950  </td>\n",
       "        </tr>\n",
       "        <tr>\n",
       "            <td>74178 </td> <td>8.3 </td> <td>All About Eve (1950)      </td> <td>1950</td> <td>1950  </td>\n",
       "        </tr>\n",
       "        <tr>\n",
       "            <td>156432</td> <td>8.3 </td> <td>Some Like It Hot (1959)   </td> <td>1959</td> <td>1950  </td>\n",
       "        </tr>\n",
       "        <tr>\n",
       "            <td>56671 </td> <td>8   </td> <td>The Killing (1956)        </td> <td>1956</td> <td>1950  </td>\n",
       "        </tr>\n",
       "        <tr>\n",
       "            <td>87437 </td> <td>8   </td> <td>Roman Holiday (1953)      </td> <td>1953</td> <td>1950  </td>\n",
       "        </tr>\n",
       "        <tr>\n",
       "            <td>65408 </td> <td>8.1 </td> <td>Touch of Evil (1958)      </td> <td>1958</td> <td>1950  </td>\n",
       "        </tr>\n",
       "        <tr>\n",
       "            <td>90434 </td> <td>8.3 </td> <td>Rashômon (1950)           </td> <td>1950</td> <td>1950  </td>\n",
       "        </tr>\n",
       "        <tr>\n",
       "            <td>42446 </td> <td>8   </td> <td>La strada (1954)          </td> <td>1954</td> <td>1950  </td>\n",
       "        </tr>\n",
       "        <tr>\n",
       "            <td>198795</td> <td>8.4 </td> <td>North by Northwest (1959) </td> <td>1959</td> <td>1950  </td>\n",
       "        </tr>\n",
       "        <tr>\n",
       "            <td>123879</td> <td>8.5 </td> <td>Sunset Blvd. (1950)       </td> <td>1950</td> <td>1950  </td>\n",
       "        </tr>\n",
       "    </tbody>\n",
       "</table>\n",
       "<p>... (20 rows omitted)</p>"
      ],
      "text/plain": [
       "Votes  | Rank | Title                      | Year | Decade\n",
       "132823 | 8.3  | Singin' in the Rain (1952) | 1952 | 1950\n",
       "74178  | 8.3  | All About Eve (1950)       | 1950 | 1950\n",
       "156432 | 8.3  | Some Like It Hot (1959)    | 1959 | 1950\n",
       "56671  | 8    | The Killing (1956)         | 1956 | 1950\n",
       "87437  | 8    | Roman Holiday (1953)       | 1953 | 1950\n",
       "65408  | 8.1  | Touch of Evil (1958)       | 1958 | 1950\n",
       "90434  | 8.3  | Rashômon (1950)            | 1950 | 1950\n",
       "42446  | 8    | La strada (1954)           | 1954 | 1950\n",
       "198795 | 8.4  | North by Northwest (1959)  | 1959 | 1950\n",
       "123879 | 8.5  | Sunset Blvd. (1950)        | 1950 | 1950\n",
       "... (20 rows omitted)"
      ]
     },
     "execution_count": 14,
     "metadata": {},
     "output_type": "execute_result"
    }
   ],
   "source": [
    "# get a subset of rows\n",
    "ratings.where(\"Decade\", are.equal_to(1950))"
   ]
  },
  {
   "cell_type": "markdown",
   "metadata": {},
   "source": [
    "There are many types of predicates, but some of the more common ones are:\n",
    "\n",
    "|Predicate|Example|Result|\n",
    "|-|-|-|\n",
    "|`are.equal_to`|`are.equal_to(50)`|Find rows with values equal to 50|\n",
    "|`are.not_equal_to`|`are.not_equal_to(50)`|Find rows with values not equal to 50|\n",
    "|`are.above`|`are.above(50)`|Find rows with values above (and not equal to) 50|\n",
    "|`are.above_or_equal_to`|`are.above_or_equal_to(50)`|Find rows with values above 50 or equal to 50|\n",
    "|`are.below`|`are.below(50)`|Find rows with values below 50|\n",
    "|`are.between`|`are.between(2, 10)`|Find rows with values above or equal to 2 and below 10|\n"
   ]
  },
  {
   "cell_type": "code",
   "execution_count": 15,
   "metadata": {},
   "outputs": [
    {
     "data": {
      "text/html": [
       "<table border=\"1\" class=\"dataframe\">\n",
       "    <thead>\n",
       "        <tr>\n",
       "            <th>Votes</th> <th>Rank</th> <th>Title</th> <th>Year</th> <th>Decade</th>\n",
       "        </tr>\n",
       "    </thead>\n",
       "    <tbody>\n",
       "        <tr>\n",
       "            <td>1027398</td> <td>9.2 </td> <td>The Godfather (1972)                                    </td> <td>1972</td> <td>1970  </td>\n",
       "        </tr>\n",
       "        <tr>\n",
       "            <td>1498733</td> <td>9.2 </td> <td>The Shawshank Redemption (1994)                         </td> <td>1994</td> <td>1990  </td>\n",
       "        </tr>\n",
       "        <tr>\n",
       "            <td>447875 </td> <td>8.9 </td> <td>Il buono, il brutto, il cattivo (1966)                  </td> <td>1966</td> <td>1960  </td>\n",
       "        </tr>\n",
       "        <tr>\n",
       "            <td>1473049</td> <td>8.9 </td> <td>The Dark Knight (2008)                                  </td> <td>2008</td> <td>2000  </td>\n",
       "        </tr>\n",
       "        <tr>\n",
       "            <td>1177098</td> <td>8.8 </td> <td>Fight Club (1999)                                       </td> <td>1999</td> <td>1990  </td>\n",
       "        </tr>\n",
       "        <tr>\n",
       "            <td>692753 </td> <td>9   </td> <td>The Godfather: Part II (1974)                           </td> <td>1974</td> <td>1970  </td>\n",
       "        </tr>\n",
       "        <tr>\n",
       "            <td>384187 </td> <td>8.9 </td> <td>12 Angry Men (1957)                                     </td> <td>1957</td> <td>1950  </td>\n",
       "        </tr>\n",
       "        <tr>\n",
       "            <td>1074146</td> <td>8.9 </td> <td>The Lord of the Rings: The Return of the King (2003)    </td> <td>2003</td> <td>2000  </td>\n",
       "        </tr>\n",
       "        <tr>\n",
       "            <td>761224 </td> <td>8.9 </td> <td>Schindler's List (1993)                                 </td> <td>1993</td> <td>1990  </td>\n",
       "        </tr>\n",
       "        <tr>\n",
       "            <td>1099087</td> <td>8.8 </td> <td>The Lord of the Rings: The Fellowship of the Ring (2001)</td> <td>2001</td> <td>2000  </td>\n",
       "        </tr>\n",
       "    </tbody>\n",
       "</table>\n",
       "<p>... (1 rows omitted)</p>"
      ],
      "text/plain": [
       "Votes   | Rank | Title                                                    | Year | Decade\n",
       "1027398 | 9.2  | The Godfather (1972)                                     | 1972 | 1970\n",
       "1498733 | 9.2  | The Shawshank Redemption (1994)                          | 1994 | 1990\n",
       "447875  | 8.9  | Il buono, il brutto, il cattivo (1966)                   | 1966 | 1960\n",
       "1473049 | 8.9  | The Dark Knight (2008)                                   | 2008 | 2000\n",
       "1177098 | 8.8  | Fight Club (1999)                                        | 1999 | 1990\n",
       "692753  | 9    | The Godfather: Part II (1974)                            | 1974 | 1970\n",
       "384187  | 8.9  | 12 Angry Men (1957)                                      | 1957 | 1950\n",
       "1074146 | 8.9  | The Lord of the Rings: The Return of the King (2003)     | 2003 | 2000\n",
       "761224  | 8.9  | Schindler's List (1993)                                  | 1993 | 1990\n",
       "1099087 | 8.8  | The Lord of the Rings: The Fellowship of the Ring (2001) | 2001 | 2000\n",
       "... (1 rows omitted)"
      ]
     },
     "execution_count": 15,
     "metadata": {},
     "output_type": "execute_result"
    }
   ],
   "source": [
    "# example 2: get a subset of rows\n",
    "ratings.where(\"Rank\", are.above(8.7))"
   ]
  },
  {
   "cell_type": "markdown",
   "metadata": {},
   "source": [
    "<div class=\"alert alert-warning\">\n",
    "<b> PRACTICE:</b> Describe what happened in each of the two examples above. Which rows were filtered out? Give an example where we would want to use those filters for analysis.\n",
    "</div>"
   ]
  },
  {
   "cell_type": "markdown",
   "metadata": {},
   "source": [
    "**YOUR RESPONSE HERE**"
   ]
  },
  {
   "cell_type": "markdown",
   "metadata": {},
   "source": [
    "## 3. Coming up... Visualizations<a id='section 3'></a>\n",
    "\n",
    "Knowing these few basic concepts about Python and Tables will help you interact with data in upcoming parts of the module. Here's a preview of the kinds of visualizations and operations coming up:"
   ]
  },
  {
   "cell_type": "code",
   "execution_count": 16,
   "metadata": {},
   "outputs": [
    {
     "data": {
      "image/png": "[encoded data removed]",
      "text/plain": [
       "<Figure size 432x360 with 1 Axes>"
      ]
     },
     "metadata": {
      "needs_background": "light"
     },
     "output_type": "display_data"
    }
   ],
   "source": [
    "# make a bar plot of the max rank per decade\n",
    "ratings.select(\"Rank\", \"Decade\").group(\"Decade\", max).barh(\"Decade\")"
   ]
  },
  {
   "cell_type": "code",
   "execution_count": 17,
   "metadata": {},
   "outputs": [
    {
     "data": {
      "application/vnd.jupyter.widget-view+json": {
       "model_id": "464774d9090d495db0a4fdf878a979a2",
       "version_major": 2,
       "version_minor": 0
      },
      "text/plain": [
       "interactive(children=(ToggleButtons(description='feature', options=('Rank', 'Votes'), value='Rank'), Output())…"
      ]
     },
     "metadata": {},
     "output_type": "display_data"
    }
   ],
   "source": [
    "# make many bar plots showing feature averages per decade\n",
    "def avg_by_decade(feature):\n",
    "    return ratings.select(feature, \"Decade\").group(\"Decade\", np.average).barh(\"Decade\")\n",
    "\n",
    "# create the slider sfor the widget\n",
    "buttons = widgets.ToggleButtons(options=[\"Rank\", \"Votes\"])\n",
    "\n",
    "# create the widget to view plots for different parameter values\n",
    "display(widgets.interactive(avg_by_decade, feature=buttons))"
   ]
  },
  {
   "cell_type": "code",
   "execution_count": 18,
   "metadata": {},
   "outputs": [
    {
     "data": {
      "text/html": [
       "<table border=\"1\" class=\"dataframe\">\n",
       "    <thead>\n",
       "        <tr>\n",
       "            <th>instant</th> <th>date</th> <th>season</th> <th>year</th> <th>month</th> <th>is holiday</th> <th>day of week</th> <th>is work day</th> <th>weather</th> <th>temp</th> <th>felt temp</th> <th>humidity</th> <th>windspeed</th> <th>casual</th> <th>registered</th> <th>total riders</th>\n",
       "        </tr>\n",
       "    </thead>\n",
       "    <tbody>\n",
       "        <tr>\n",
       "            <td>1      </td> <td>2011-01-01</td> <td>1:spring</td> <td>0   </td> <td>1    </td> <td>0         </td> <td>6:saturday </td> <td>0          </td> <td>2      </td> <td>0.344167</td> <td>0.363625 </td> <td>0.805833</td> <td>0.160446 </td> <td>331   </td> <td>654       </td> <td>985         </td>\n",
       "        </tr>\n",
       "        <tr>\n",
       "            <td>2      </td> <td>2011-01-02</td> <td>1:spring</td> <td>0   </td> <td>1    </td> <td>0         </td> <td>0:sunday   </td> <td>0          </td> <td>2      </td> <td>0.363478</td> <td>0.353739 </td> <td>0.696087</td> <td>0.248539 </td> <td>131   </td> <td>670       </td> <td>801         </td>\n",
       "        </tr>\n",
       "        <tr>\n",
       "            <td>3      </td> <td>2011-01-03</td> <td>1:spring</td> <td>0   </td> <td>1    </td> <td>0         </td> <td>1:monday   </td> <td>1          </td> <td>1      </td> <td>0.196364</td> <td>0.189405 </td> <td>0.437273</td> <td>0.248309 </td> <td>120   </td> <td>1229      </td> <td>1349        </td>\n",
       "        </tr>\n",
       "        <tr>\n",
       "            <td>4      </td> <td>2011-01-04</td> <td>1:spring</td> <td>0   </td> <td>1    </td> <td>0         </td> <td>2:tuesday  </td> <td>1          </td> <td>1      </td> <td>0.2     </td> <td>0.212122 </td> <td>0.590435</td> <td>0.160296 </td> <td>108   </td> <td>1454      </td> <td>1562        </td>\n",
       "        </tr>\n",
       "        <tr>\n",
       "            <td>5      </td> <td>2011-01-05</td> <td>1:spring</td> <td>0   </td> <td>1    </td> <td>0         </td> <td>3:wednesday</td> <td>1          </td> <td>1      </td> <td>0.226957</td> <td>0.22927  </td> <td>0.436957</td> <td>0.1869   </td> <td>82    </td> <td>1518      </td> <td>1600        </td>\n",
       "        </tr>\n",
       "        <tr>\n",
       "            <td>6      </td> <td>2011-01-06</td> <td>1:spring</td> <td>0   </td> <td>1    </td> <td>0         </td> <td>4:thursday </td> <td>1          </td> <td>1      </td> <td>0.204348</td> <td>0.233209 </td> <td>0.518261</td> <td>0.0895652</td> <td>88    </td> <td>1518      </td> <td>1606        </td>\n",
       "        </tr>\n",
       "        <tr>\n",
       "            <td>7      </td> <td>2011-01-07</td> <td>1:spring</td> <td>0   </td> <td>1    </td> <td>0         </td> <td>5:friday   </td> <td>1          </td> <td>2      </td> <td>0.196522</td> <td>0.208839 </td> <td>0.498696</td> <td>0.168726 </td> <td>148   </td> <td>1362      </td> <td>1510        </td>\n",
       "        </tr>\n",
       "        <tr>\n",
       "            <td>8      </td> <td>2011-01-08</td> <td>1:spring</td> <td>0   </td> <td>1    </td> <td>0         </td> <td>6:saturday </td> <td>0          </td> <td>2      </td> <td>0.165   </td> <td>0.162254 </td> <td>0.535833</td> <td>0.266804 </td> <td>68    </td> <td>891       </td> <td>959         </td>\n",
       "        </tr>\n",
       "        <tr>\n",
       "            <td>9      </td> <td>2011-01-09</td> <td>1:spring</td> <td>0   </td> <td>1    </td> <td>0         </td> <td>0:sunday   </td> <td>0          </td> <td>1      </td> <td>0.138333</td> <td>0.116175 </td> <td>0.434167</td> <td>0.36195  </td> <td>54    </td> <td>768       </td> <td>822         </td>\n",
       "        </tr>\n",
       "        <tr>\n",
       "            <td>10     </td> <td>2011-01-10</td> <td>1:spring</td> <td>0   </td> <td>1    </td> <td>0         </td> <td>1:monday   </td> <td>1          </td> <td>1      </td> <td>0.150833</td> <td>0.150888 </td> <td>0.482917</td> <td>0.223267 </td> <td>41    </td> <td>1280      </td> <td>1321        </td>\n",
       "        </tr>\n",
       "    </tbody>\n",
       "</table>\n",
       "<p>... (721 rows omitted)</p>"
      ],
      "text/plain": [
       "instant | date       | season   | year | month | is holiday | day of week | is work day | weather | temp     | felt temp | humidity | windspeed | casual | registered | total riders\n",
       "1       | 2011-01-01 | 1:spring | 0    | 1     | 0          | 6:saturday  | 0           | 2       | 0.344167 | 0.363625  | 0.805833 | 0.160446  | 331    | 654        | 985\n",
       "2       | 2011-01-02 | 1:spring | 0    | 1     | 0          | 0:sunday    | 0           | 2       | 0.363478 | 0.353739  | 0.696087 | 0.248539  | 131    | 670        | 801\n",
       "3       | 2011-01-03 | 1:spring | 0    | 1     | 0          | 1:monday    | 1           | 1       | 0.196364 | 0.189405  | 0.437273 | 0.248309  | 120    | 1229       | 1349\n",
       "4       | 2011-01-04 | 1:spring | 0    | 1     | 0          | 2:tuesday   | 1           | 1       | 0.2      | 0.212122  | 0.590435 | 0.160296  | 108    | 1454       | 1562\n",
       "5       | 2011-01-05 | 1:spring | 0    | 1     | 0          | 3:wednesday | 1           | 1       | 0.226957 | 0.22927   | 0.436957 | 0.1869    | 82     | 1518       | 1600\n",
       "6       | 2011-01-06 | 1:spring | 0    | 1     | 0          | 4:thursday  | 1           | 1       | 0.204348 | 0.233209  | 0.518261 | 0.0895652 | 88     | 1518       | 1606\n",
       "7       | 2011-01-07 | 1:spring | 0    | 1     | 0          | 5:friday    | 1           | 2       | 0.196522 | 0.208839  | 0.498696 | 0.168726  | 148    | 1362       | 1510\n",
       "8       | 2011-01-08 | 1:spring | 0    | 1     | 0          | 6:saturday  | 0           | 2       | 0.165    | 0.162254  | 0.535833 | 0.266804  | 68     | 891        | 959\n",
       "9       | 2011-01-09 | 1:spring | 0    | 1     | 0          | 0:sunday    | 0           | 1       | 0.138333 | 0.116175  | 0.434167 | 0.36195   | 54     | 768        | 822\n",
       "10      | 2011-01-10 | 1:spring | 0    | 1     | 0          | 1:monday    | 1           | 1       | 0.150833 | 0.150888  | 0.482917 | 0.223267  | 41     | 1280       | 1321\n",
       "... (721 rows omitted)"
      ]
     },
     "execution_count": 18,
     "metadata": {},
     "output_type": "execute_result"
    }
   ],
   "source": [
    "# load the Capital bike-sharing data set\n",
    "bikes = Table.read_table(\"data/day_renamed.csv\")\n",
    "bikes"
   ]
  },
  {
   "cell_type": "code",
   "execution_count": 19,
   "metadata": {},
   "outputs": [
    {
     "data": {
      "image/png": "[encoded data removed]",
      "text/plain": [
       "<Figure size 360x360 with 1 Axes>"
      ]
     },
     "metadata": {
      "needs_background": "light"
     },
     "output_type": "display_data"
    }
   ],
   "source": [
    "# look at the correlation between temperature and casual rider numbers\n",
    "bikes.select(\"casual\", \"temp\").scatter(\"temp\", fit_line=True)"
   ]
  },
  {
   "cell_type": "code",
   "execution_count": 20,
   "metadata": {},
   "outputs": [
    {
     "data": {
      "application/vnd.jupyter.widget-view+json": {
       "model_id": "fccc1ef9ef334d4eb7098d32301f2bfb",
       "version_major": 2,
       "version_minor": 0
      },
      "text/plain": [
       "interactive(children=(Dropdown(description='predictor', options=('humidity', 'windspeed', 'temp'), value='humi…"
      ]
     },
     "metadata": {},
     "output_type": "display_data"
    }
   ],
   "source": [
    "# compare scatter plots for casual and registered riders for different predictor variables\n",
    "def scatter_bikes(predictor, response, fit_line):\n",
    "    if response == \"both\":\n",
    "        b = bikes.select(\"registered\", \"casual\", predictor)\n",
    "    else:\n",
    "        b = bikes.select(response, predictor)\n",
    "    return b.scatter(predictor, fit_line=fit_line)\n",
    "\n",
    "# create the slider sfor the widget\n",
    "predict_widget = widgets.Dropdown(options=[\"humidity\", \"windspeed\", \"temp\"],\n",
    "                         value=\"humidity\")\n",
    "response_widget = widgets.Dropdown(options=[\"casual\", \"registered\", \"both\"],\n",
    "                         value=\"casual\")\n",
    "fitline_widget = widgets.Dropdown(options=[True, False],\n",
    "                          value=False)\n",
    "\n",
    "# create the widget to view plots for different parameter values\n",
    "display(widgets.interactive(scatter_bikes, predictor=predict_widget, response=response_widget, fit_line=fitline_widget))"
   ]
  },
  {
   "cell_type": "markdown",
   "metadata": {},
   "source": [
    "#### References\n",
    "\n",
    "- Sections of \"Intro to Jupyter\", \"Table Transformation\" adapted from materials by Kelly Chen and Ashley Chien in [UC Berkeley Data Science Modules core resources](http://github.com/ds-modules/core-resources)\n",
    "- \"A Note on Errors\" subsection and \"error\" image adapted from materials by Chris Hench and Mariah Rogers for the Medieval Studies 250: Text Analysis for Graduate Medievalists [data science module](https://github.com/ds-modules/MEDST-250).\n",
    "- Rocket Fuel data and discussion questions adapted from materials by Zsolt Katona and Brian Bell, BerkeleyHaas Case Series"
   ]
  },
  {
   "cell_type": "markdown",
   "metadata": {},
   "source": [
    "Author: Keeley Takimoto"
   ]
  }
 ],
 "metadata": {
  "kernelspec": {
   "display_name": "Python 3",
   "language": "python",
   "name": "python3"
  },
  "language_info": {
   "codemirror_mode": {
    "name": "ipython",
    "version": 3
   },
   "file_extension": ".py",
   "mimetype": "text/x-python",
   "name": "python",
   "nbconvert_exporter": "python",
   "pygments_lexer": "ipython3",
   "version": "3.6.9"
  }
 },
 "nbformat": 4,
 "nbformat_minor": 2
}

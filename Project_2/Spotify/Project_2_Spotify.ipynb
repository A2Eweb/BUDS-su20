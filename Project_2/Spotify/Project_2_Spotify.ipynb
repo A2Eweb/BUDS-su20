{
 "cells": [
  {
   "cell_type": "code",
   "execution_count": 1,
   "metadata": {},
   "outputs": [],
   "source": [
    "import pandas as pd\n",
    "import numpy as np\n",
    "from datascience import *\n",
    "\n",
    "# Table.interactive()\n",
    "\n",
    "import matplotlib\n",
    "\n",
    "# from ipywidgets import interact, Dropdown\n",
    "\n",
    "%matplotlib inline\n",
    "import matplotlib.pyplot as plt\n",
    "import numpy as np\n",
    "plt.style.use('fivethirtyeight')"
   ]
  },
  {
   "cell_type": "markdown",
   "metadata": {},
   "source": [
    "# Project 2: Spotify"
   ]
  },
  {
   "cell_type": "markdown",
   "metadata": {},
   "source": [
    "## Table of Contents\n",
    "<a href='#section 0'>Background Knowledge: Topic</a>\n",
    "\n",
    "1.  <a href='#section 1'> The Data Science Life Cycle</a>\n",
    "\n",
    "    a. <a href='#subsection 1a'>Formulating a question or problem</a> \n",
    "\n",
    "    b. <a href='#subsection 1b'>Acquiring and cleaning data</a>\n",
    "\n",
    "    c. <a href='#subsection 1c'>Conducting exploratory data analysis</a>\n",
    "\n",
    "    d. <a href='#subsection 1d'>Using prediction and inference to draw conclusions</a>\n",
    "<br><br>"
   ]
  },
  {
   "cell_type": "markdown",
   "metadata": {},
   "source": [
    "### Background Knowledge <a id='section 0'></a>\n"
   ]
  },
  {
   "cell_type": "markdown",
   "metadata": {},
   "source": [
    "If you listen to music, chances are you use spotify or another similar streaming service. This new era of the music industry curates playlists, recommends new artists, and is based on the number of streams more than the number of albums sold. The way these streaming services do this is (you guessed it) data!"
   ]
  },
  {
   "cell_type": "markdown",
   "metadata": {},
   "source": [
    "<img src=\"images/spotify.png\" width = 700/>\n",
    "\n",
    "image found here: https://hrblog.spotify.com/2018/02/08/amping-up-diversity-inclusion-at-spotify/"
   ]
  },
  {
   "cell_type": "markdown",
   "metadata": {},
   "source": [
    "# The Data Science Life Cycle <a id='section 1'></a>"
   ]
  },
  {
   "cell_type": "markdown",
   "metadata": {},
   "source": [
    "## Formulating a question or problem <a id='subsection 1a'></a>\n",
    "It is important to ask questions that will be informative and can be answered using the data. There are many different questions we could ask about music data, for example, there are many artists who want to find out how to get their music on Spotify's Discover Weekly playlist in order to gain exposure."
   ]
  },
  {
   "cell_type": "markdown",
   "metadata": {},
   "source": [
    "<div class=\"alert alert-warning\">\n",
    "<b>Question:</b> Recall the questions you developed with your group on Tuesday. Write down that question below, and try to add on to it with the context from the articles from Wednesday. Think about what data you would need to answer your question. You can review the articles on the bCourses page under Module 4.3.\n",
    "   </div>"
   ]
  },
  {
   "cell_type": "markdown",
   "metadata": {},
   "source": [
    "Original Question(s): *here*\n",
    "\n",
    "\n",
    "Updated Question(s): *here*\n",
    "\n",
    "\n",
    "\n",
    "Data you would need: *here*\n"
   ]
  },
  {
   "cell_type": "markdown",
   "metadata": {},
   "source": [
    "## Acquiring and cleaning data <a id='subsection 1b'></a>\n",
    "\n",
    "We'll be looking at the data from Spotify. You can find the raw data [here](https://github.com/rfordatascience/tidytuesday/tree/master/data/2020/2020-01-21). We've cleaned up the datasets a bit, and we will be investigating the popularity and the qualities of songs from this dataset.\n",
    "\n",
    "The following table, `spotify`, contains a list of tracks identified by their unique song ID along with attributes about that track.\n",
    "\n",
    "Here are the desriptions of the columns for your reference. (We will not be using all of these fields):\n",
    "\n",
    "|Variable Name   | Description |\n",
    "|--------------|------------|\n",
    "|`track_id` | \tSong unique ID |\n",
    "|`track_name` | Song Name |\n",
    "|`track_artist\t`| Song Artist |\n",
    "|`track_popularity` | Song Popularity (0-100) where higher is better |\n",
    "|`track_album_id`| Album unique ID |\n",
    "|`track_album_name` | Song album name |\n",
    "|`track_album_release_date`| Date when album released |\n",
    "|`playlist_name`| Name of playlist |\n",
    "|`playlist_id`| Playlist ID |\n",
    "|`playlist_genre`| Playlist genre |\n",
    "|`playlist_subgenre\t`|  Playlist subgenre |\n",
    "|`danceability`| Danceability describes how suitable a track is for dancing based on a combination of musical elements including tempo, rhythm stability, beat strength, and overall regularity. A value of 0.0 is least danceable and 1.0 is most danceable. |\n",
    "|`energy`| Energy is a measure from 0.0 to 1.0 and represents a perceptual measure of intensity and activity. Typically, energetic tracks feel fast, loud, and noisy. For example, death metal has high energy, while a Bach prelude scores low on the scale. Perceptual features contributing to this attribute include dynamic range, perceived loudness, timbre, onset rate, and general entropy. |\n",
    "|`key`| The estimated overall key of the track. Integers map to pitches using standard Pitch Class notation . E.g. 0 = C, 1 = C♯/D♭, 2 = D, and so on. If no key was detected, the value is -1. |\n",
    "|`loudness`|  The overall loudness of a track in decibels (dB). Loudness values are averaged across the entire track and are useful for comparing relative loudness of tracks. Loudness is the quality of a sound that is the primary psychological correlate of physical strength (amplitude). Values typical range between -60 and 0 db. |\n",
    "|`mode`|  Mode indicates the modality (major or minor) of a track, the type of scale from which its melodic content is derived. Major is represented by 1 and minor is 0. |\n",
    "|`speechiness`|  Speechiness detects the presence of spoken words in a track. The more exclusively speech-like the recording (e.g. talk show, audio book, poetry), the closer to 1.0 the attribute value. Values above 0.66 describe tracks that are probably made entirely of spoken words. Values between 0.33 and 0.66 describe tracks that may contain both music and speech, either in sections or layered, including such cases as rap music. Values below 0.33 most likely represent music and other non-speech-like tracks. |\n",
    "|`acousticness`|  A confidence measure from 0.0 to 1.0 of whether the track is acoustic. 1.0 represents high confidence the track is acoustic. |\n",
    "|`instrumentalness`| Predicts whether a track contains no vocals. “Ooh” and “aah” sounds are treated as instrumental in this context. Rap or spoken word tracks are clearly “vocal”. The closer the instrumentalness value is to 1.0, the greater likelihood the track contains no vocal content. Values above 0.5 are intended to represent instrumental tracks, but confidence is higher as the value approaches 1.0. |\n",
    "|`liveness`| Detects the presence of an audience in the recording. Higher liveness values represent an increased probability that the track was performed live. A value above 0.8 provides strong likelihood that the track is live. |\n",
    "|`valence`| A measure from 0.0 to 1.0 describing the musical positiveness conveyed by a track. Tracks with high valence sound more positive (e.g. happy, cheerful, euphoric), while tracks with low valence sound more negative (e.g. sad, depressed, angry). |\n",
    "|`tempo`| The overall estimated tempo of a track in beats per minute (BPM). In musical terminology, tempo is the speed or pace of a given piece and derives directly from the average beat duration. |\n",
    "|`duration_ms`| Duration of song in milliseconds |\n",
    "|`creation_year`| Year when album was released |\n",
    "\n",
    "\n"
   ]
  },
  {
   "cell_type": "code",
   "execution_count": 2,
   "metadata": {
    "scrolled": false
   },
   "outputs": [
    {
     "data": {
      "text/html": [
       "<table border=\"1\" class=\"dataframe\">\n",
       "    <thead>\n",
       "        <tr>\n",
       "            <th>track_id</th> <th>track_name</th> <th>track_artist</th> <th>track_popularity</th> <th>track_album_id</th> <th>track_album_name</th> <th>track_album_release_date</th> <th>playlist_name</th> <th>playlist_id</th> <th>playlist_genre</th> <th>playlist_subgenre</th> <th>danceability</th> <th>energy</th> <th>key</th> <th>loudness</th> <th>mode</th> <th>speechiness</th> <th>acousticness</th> <th>instrumentalness</th> <th>liveness</th> <th>valence</th> <th>tempo</th> <th>duration_ms</th> <th>creation_year</th>\n",
       "        </tr>\n",
       "    </thead>\n",
       "    <tbody>\n",
       "        <tr>\n",
       "            <td>6f807x0ima9a1j3VPbc7VN</td> <td>I Don't Care (with Justin Bieber) - Loud Luxury Remix</td> <td>Ed Sheeran      </td> <td>66              </td> <td>2oCs0DGTsRO98Gh5ZSl2Cx</td> <td>I Don't Care (with Justin Bieber) [Loud Luxury Remix]</td> <td>2019-06-14              </td> <td>Pop Remix    </td> <td>37i9dQZF1DXcZDD7cfEKhW</td> <td>pop           </td> <td>dance pop        </td> <td>0.748       </td> <td>0.916 </td> <td>6   </td> <td>-2.634  </td> <td>1   </td> <td>0.0583     </td> <td>0.102       </td> <td>0               </td> <td>0.0653  </td> <td>0.518  </td> <td>122.036</td> <td>194754     </td> <td>2019         </td>\n",
       "        </tr>\n",
       "        <tr>\n",
       "            <td>0r7CVbZTWZgbTCYdfa2P31</td> <td>Memories - Dillon Francis Remix                      </td> <td>Maroon 5        </td> <td>67              </td> <td>63rPSO264uRjW1X5E6cWv6</td> <td>Memories (Dillon Francis Remix)                      </td> <td>2019-12-13              </td> <td>Pop Remix    </td> <td>37i9dQZF1DXcZDD7cfEKhW</td> <td>pop           </td> <td>dance pop        </td> <td>0.726       </td> <td>0.815 </td> <td>11  </td> <td>-4.969  </td> <td>1   </td> <td>0.0373     </td> <td>0.0724      </td> <td>0.00421         </td> <td>0.357   </td> <td>0.693  </td> <td>99.972 </td> <td>162600     </td> <td>2019         </td>\n",
       "        </tr>\n",
       "        <tr>\n",
       "            <td>1z1Hg7Vb0AhHDiEmnDE79l</td> <td>All the Time - Don Diablo Remix                      </td> <td>Zara Larsson    </td> <td>70              </td> <td>1HoSmj2eLcsrR0vE9gThr4</td> <td>All the Time (Don Diablo Remix)                      </td> <td>2019-07-05              </td> <td>Pop Remix    </td> <td>37i9dQZF1DXcZDD7cfEKhW</td> <td>pop           </td> <td>dance pop        </td> <td>0.675       </td> <td>0.931 </td> <td>1   </td> <td>-3.432  </td> <td>0   </td> <td>0.0742     </td> <td>0.0794      </td> <td>2.33e-05        </td> <td>0.11    </td> <td>0.613  </td> <td>124.008</td> <td>176616     </td> <td>2019         </td>\n",
       "        </tr>\n",
       "        <tr>\n",
       "            <td>75FpbthrwQmzHlBJLuGdC7</td> <td>Call You Mine - Keanu Silva Remix                    </td> <td>The Chainsmokers</td> <td>60              </td> <td>1nqYsOef1yKKuGOVchbsk6</td> <td>Call You Mine - The Remixes                          </td> <td>2019-07-19              </td> <td>Pop Remix    </td> <td>37i9dQZF1DXcZDD7cfEKhW</td> <td>pop           </td> <td>dance pop        </td> <td>0.718       </td> <td>0.93  </td> <td>7   </td> <td>-3.778  </td> <td>1   </td> <td>0.102      </td> <td>0.0287      </td> <td>9.43e-06        </td> <td>0.204   </td> <td>0.277  </td> <td>121.956</td> <td>169093     </td> <td>2019         </td>\n",
       "        </tr>\n",
       "        <tr>\n",
       "            <td>1e8PAfcKUYoKkxPhrHqw4x</td> <td>Someone You Loved - Future Humans Remix              </td> <td>Lewis Capaldi   </td> <td>69              </td> <td>7m7vv9wlQ4i0LFuJiE2zsQ</td> <td>Someone You Loved (Future Humans Remix)              </td> <td>2019-03-05              </td> <td>Pop Remix    </td> <td>37i9dQZF1DXcZDD7cfEKhW</td> <td>pop           </td> <td>dance pop        </td> <td>0.65        </td> <td>0.833 </td> <td>1   </td> <td>-4.672  </td> <td>1   </td> <td>0.0359     </td> <td>0.0803      </td> <td>0               </td> <td>0.0833  </td> <td>0.725  </td> <td>123.976</td> <td>189052     </td> <td>2019         </td>\n",
       "        </tr>\n",
       "        <tr>\n",
       "            <td>7fvUMiyapMsRRxr07cU8Ef</td> <td>Beautiful People (feat. Khalid) - Jack Wins Remix    </td> <td>Ed Sheeran      </td> <td>67              </td> <td>2yiy9cd2QktrNvWC2EUi0k</td> <td>Beautiful People (feat. Khalid) [Jack Wins Remix]    </td> <td>2019-07-11              </td> <td>Pop Remix    </td> <td>37i9dQZF1DXcZDD7cfEKhW</td> <td>pop           </td> <td>dance pop        </td> <td>0.675       </td> <td>0.919 </td> <td>8   </td> <td>-5.385  </td> <td>1   </td> <td>0.127      </td> <td>0.0799      </td> <td>0               </td> <td>0.143   </td> <td>0.585  </td> <td>124.982</td> <td>163049     </td> <td>2019         </td>\n",
       "        </tr>\n",
       "        <tr>\n",
       "            <td>2OAylPUDDfwRGfe0lYqlCQ</td> <td>Never Really Over - R3HAB Remix                      </td> <td>Katy Perry      </td> <td>62              </td> <td>7INHYSeusaFlyrHSNxm8qH</td> <td>Never Really Over (R3HAB Remix)                      </td> <td>2019-07-26              </td> <td>Pop Remix    </td> <td>37i9dQZF1DXcZDD7cfEKhW</td> <td>pop           </td> <td>dance pop        </td> <td>0.449       </td> <td>0.856 </td> <td>5   </td> <td>-4.788  </td> <td>0   </td> <td>0.0623     </td> <td>0.187       </td> <td>0               </td> <td>0.176   </td> <td>0.152  </td> <td>112.648</td> <td>187675     </td> <td>2019         </td>\n",
       "        </tr>\n",
       "        <tr>\n",
       "            <td>6b1RNvAcJjQH73eZO4BLAB</td> <td>Post Malone (feat. RANI) - GATTÜSO Remix             </td> <td>Sam Feldt       </td> <td>69              </td> <td>6703SRPsLkS4bPtMFFJes1</td> <td>Post Malone (feat. RANI) [GATTÜSO Remix]             </td> <td>2019-08-29              </td> <td>Pop Remix    </td> <td>37i9dQZF1DXcZDD7cfEKhW</td> <td>pop           </td> <td>dance pop        </td> <td>0.542       </td> <td>0.903 </td> <td>4   </td> <td>-2.419  </td> <td>0   </td> <td>0.0434     </td> <td>0.0335      </td> <td>4.83e-06        </td> <td>0.111   </td> <td>0.367  </td> <td>127.936</td> <td>207619     </td> <td>2019         </td>\n",
       "        </tr>\n",
       "        <tr>\n",
       "            <td>7bF6tCO3gFb8INrEDcjNT5</td> <td>Tough Love - Tiësto Remix / Radio Edit               </td> <td>Avicii          </td> <td>68              </td> <td>7CvAfGvq4RlIwEbT9o8Iav</td> <td>Tough Love (Tiësto Remix)                            </td> <td>2019-06-14              </td> <td>Pop Remix    </td> <td>37i9dQZF1DXcZDD7cfEKhW</td> <td>pop           </td> <td>dance pop        </td> <td>0.594       </td> <td>0.935 </td> <td>8   </td> <td>-3.562  </td> <td>1   </td> <td>0.0565     </td> <td>0.0249      </td> <td>3.97e-06        </td> <td>0.637   </td> <td>0.366  </td> <td>127.015</td> <td>193187     </td> <td>2019         </td>\n",
       "        </tr>\n",
       "        <tr>\n",
       "            <td>1IXGILkPm0tOCNeq00kCPa</td> <td>If I Can't Have You - Gryffin Remix                  </td> <td>Shawn Mendes    </td> <td>67              </td> <td>4QxzbfSsVryEQwvPFEV5Iu</td> <td>If I Can't Have You (Gryffin Remix)                  </td> <td>2019-06-20              </td> <td>Pop Remix    </td> <td>37i9dQZF1DXcZDD7cfEKhW</td> <td>pop           </td> <td>dance pop        </td> <td>0.642       </td> <td>0.818 </td> <td>2   </td> <td>-4.552  </td> <td>1   </td> <td>0.032      </td> <td>0.0567      </td> <td>0               </td> <td>0.0919  </td> <td>0.59   </td> <td>124.957</td> <td>253040     </td> <td>2019         </td>\n",
       "        </tr>\n",
       "    </tbody>\n",
       "</table>\n",
       "<p>... (32823 rows omitted)</p>"
      ],
      "text/plain": [
       "<IPython.core.display.HTML object>"
      ]
     },
     "metadata": {},
     "output_type": "display_data"
    }
   ],
   "source": [
    "spotify = Table.read_table('spotify.csv')\n",
    "spotify.show(10)"
   ]
  },
  {
   "cell_type": "markdown",
   "metadata": {},
   "source": [
    "<div class=\"alert alert-warning\">\n",
    "<b>Question:</b> It's important to evalute our data source. What do you know about the source? What motivations do they have for collecting this data? What data is missing?\n",
    "   </div>"
   ]
  },
  {
   "cell_type": "markdown",
   "metadata": {},
   "source": [
    "*Insert answer*"
   ]
  },
  {
   "cell_type": "markdown",
   "metadata": {},
   "source": [
    "<div class=\"alert alert-warning\">\n",
    "<b>Question:</b> Do you see any missing (nan) values? Why might they be there?\n",
    "   </div>"
   ]
  },
  {
   "cell_type": "markdown",
   "metadata": {},
   "source": [
    "*Insert answer here*"
   ]
  },
  {
   "cell_type": "markdown",
   "metadata": {},
   "source": [
    "<div class=\"alert alert-warning\">\n",
    "<b>Question:</b> We want to learn more about the dataset. First, how many total rows are in this table? What does each row represent?\n",
    "    \n",
    "   </div>"
   ]
  },
  {
   "cell_type": "code",
   "execution_count": null,
   "metadata": {
    "collapsed": true
   },
   "outputs": [],
   "source": [
    "total_rows = ..."
   ]
  },
  {
   "cell_type": "markdown",
   "metadata": {},
   "source": [
    "*Insert answer here*"
   ]
  },
  {
   "cell_type": "markdown",
   "metadata": {},
   "source": [
    "## Conducting exploratory data analysis <a id='subsection 1c'></a>"
   ]
  },
  {
   "cell_type": "markdown",
   "metadata": {},
   "source": [
    "Visualizations help us to understand what the dataset is telling us.**OVERVIEW OF WHAT CHARTS WE WILL REVIEW / WHAT QUESTION AND WE WORKING TOWARD**. "
   ]
  },
  {
   "cell_type": "markdown",
   "metadata": {},
   "source": [
    "### Part 1: One Branch of analysis (Understanding ratios / patterns in the data / grouping / filtering)"
   ]
  },
  {
   "cell_type": "markdown",
   "metadata": {},
   "source": [
    "<div class=\"alert alert-warning\">\n",
    "<b>Question:</b> ...\n",
    "   </div>"
   ]
  },
  {
   "cell_type": "code",
   "execution_count": null,
   "metadata": {
    "collapsed": true
   },
   "outputs": [],
   "source": []
  },
  {
   "cell_type": "code",
   "execution_count": null,
   "metadata": {
    "collapsed": true
   },
   "outputs": [],
   "source": []
  },
  {
   "cell_type": "markdown",
   "metadata": {},
   "source": [
    "<div class=\"alert alert-warning\">\n",
    "<b>Question:</b> Next, visualize ...\n",
    "   </div>"
   ]
  },
  {
   "cell_type": "code",
   "execution_count": null,
   "metadata": {
    "collapsed": true
   },
   "outputs": [],
   "source": []
  },
  {
   "cell_type": "markdown",
   "metadata": {},
   "source": [
    "<div class=\"alert alert-warning\">\n",
    "<b>Question:</b> Compare ... \n",
    "   </div>"
   ]
  },
  {
   "cell_type": "code",
   "execution_count": null,
   "metadata": {
    "collapsed": true
   },
   "outputs": [],
   "source": []
  },
  {
   "cell_type": "markdown",
   "metadata": {},
   "source": [
    "<div class=\"alert alert-warning\">\n",
    "<b>Question:</b> Now make another bar chart...\n",
    "   </div>"
   ]
  },
  {
   "cell_type": "code",
   "execution_count": null,
   "metadata": {},
   "outputs": [],
   "source": [
    "..."
   ]
  },
  {
   "cell_type": "markdown",
   "metadata": {},
   "source": [
    "<div class=\"alert alert-warning\">\n",
    "<b>Question:</b> What are some possible reasons for the disparities between charts? Hint: Think about ...\n",
    "   </div>"
   ]
  },
  {
   "cell_type": "markdown",
   "metadata": {},
   "source": [
    "*Insert answer here.*"
   ]
  },
  {
   "cell_type": "markdown",
   "metadata": {},
   "source": [
    "### Part 2: Other Data / Second Branch of analysis (Understanding ratios / patterns in the data / grouping / filtering)"
   ]
  },
  {
   "cell_type": "markdown",
   "metadata": {},
   "source": [
    "Is there additional data we need to understand / answer our question? Are we starting another branch of analysis / focus on a different column / topics than last section"
   ]
  },
  {
   "cell_type": "code",
   "execution_count": null,
   "metadata": {
    "scrolled": true
   },
   "outputs": [],
   "source": [
    "# possible other data\n",
    "# other_data = Table().read_table(\"...csv\")\n",
    "# other_data.show(10)"
   ]
  },
  {
   "cell_type": "markdown",
   "metadata": {},
   "source": [
    "<div class=\"alert alert-warning\">\n",
    "<b>Question:</b> Grouping\n",
    "   </div>"
   ]
  },
  {
   "cell_type": "code",
   "execution_count": null,
   "metadata": {
    "collapsed": true
   },
   "outputs": [],
   "source": []
  },
  {
   "cell_type": "markdown",
   "metadata": {},
   "source": [
    "<div class=\"alert alert-warning\">\n",
    "<b>Question:</b> Compare\n",
    "   </div>"
   ]
  },
  {
   "cell_type": "code",
   "execution_count": null,
   "metadata": {
    "collapsed": true
   },
   "outputs": [],
   "source": []
  },
  {
   "cell_type": "code",
   "execution_count": null,
   "metadata": {
    "collapsed": true
   },
   "outputs": [],
   "source": []
  },
  {
   "cell_type": "markdown",
   "metadata": {},
   "source": [
    "<div class=\"alert alert-warning\">\n",
    "<b>Question:</b> Adding to existing tables\n",
    "   </div>"
   ]
  },
  {
   "cell_type": "code",
   "execution_count": null,
   "metadata": {
    "collapsed": true
   },
   "outputs": [],
   "source": []
  },
  {
   "cell_type": "markdown",
   "metadata": {},
   "source": [
    "<div class=\"alert alert-warning\">\n",
    "<b>Question:</b> Compare & visualize\n",
    "   </div>"
   ]
  },
  {
   "cell_type": "code",
   "execution_count": null,
   "metadata": {
    "collapsed": true
   },
   "outputs": [],
   "source": []
  },
  {
   "cell_type": "markdown",
   "metadata": {},
   "source": [
    "<div class=\"alert alert-warning\">\n",
    "<b>Question:</b> What differences do you see from the visualizations? What do they imply for the broader world?\n",
    "   </div>"
   ]
  },
  {
   "cell_type": "markdown",
   "metadata": {},
   "source": [
    "*Insert answer here.*"
   ]
  },
  {
   "cell_type": "markdown",
   "metadata": {},
   "source": [
    "## Using prediction and inference to draw conclusions <a id='subsection 1a'></a>"
   ]
  },
  {
   "cell_type": "markdown",
   "metadata": {},
   "source": [
    "Now that we have some experience making these visualizations, let's go back to **BACKGROUND INFO / PERSONAL EXPERIENCES / KNOWLEDGE**. We know that... From the previous section, we also know that we need to take into account ..."
   ]
  },
  {
   "cell_type": "markdown",
   "metadata": {},
   "source": [
    "Now we will read in two tables: Covid by State and Population by state in order to look at the percentage of the cases. And the growth of the "
   ]
  },
  {
   "cell_type": "code",
   "execution_count": null,
   "metadata": {
    "scrolled": false
   },
   "outputs": [],
   "source": [
    "# possible other data\n",
    "# other_data = Table().read_table(\"...csv\")\n",
    "# other_data.show(10)"
   ]
  },
  {
   "cell_type": "markdown",
   "metadata": {},
   "source": [
    "#### MAPPING / MORE COMPLICATED VISUAL / SUMMARIZING VISUAL TO PULL TOGETHER CONCEPTS THROUGHOUT THE WHOLE PROJECT\n",
    "\n",
    "#### WHAT NARRATIVE DO WE WANT TO END ON? FINAL POINT FOR THEIR OWN PRESENTATIONS"
   ]
  },
  {
   "cell_type": "markdown",
   "metadata": {},
   "source": [
    "Look at the VISUAL (...) and try to explain using your knowledge and other sources. Tell a story. (Presentation)\n",
    "\n",
    "Tell us what you learned FROM THE PROJECT."
   ]
  },
  {
   "cell_type": "markdown",
   "metadata": {},
   "source": [
    "### BRING BACK ETHICS & CONTEXT"
   ]
  },
  {
   "cell_type": "markdown",
   "metadata": {},
   "source": [
    "Tell us something interesting about this data"
   ]
  },
  {
   "cell_type": "markdown",
   "metadata": {},
   "source": [
    "Source: ....\n",
    "Notebook Authors: Alleanna Clark, Ashley Quiterio, Karla Palos Castellanos"
   ]
  }
 ],
 "metadata": {
  "kernelspec": {
   "display_name": "Python 3",
   "language": "python",
   "name": "python3"
  },
  "language_info": {
   "codemirror_mode": {
    "name": "ipython",
    "version": 3
   },
   "file_extension": ".py",
   "mimetype": "text/x-python",
   "name": "python",
   "nbconvert_exporter": "python",
   "pygments_lexer": "ipython3",
   "version": "3.6.9"
  }
 },
 "nbformat": 4,
 "nbformat_minor": 4
}

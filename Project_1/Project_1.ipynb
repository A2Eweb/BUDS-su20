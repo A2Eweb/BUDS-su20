{
 "cells": [
  {
   "cell_type": "code",
   "execution_count": 96,
   "metadata": {},
   "outputs": [],
   "source": [
    "import pandas as pd\n",
    "import numpy as np\n",
    "from datascience import *\n",
    "from datascience import Table\n",
    "import matplotlib\n",
    "\n",
    "%matplotlib inline\n",
    "import matplotlib.pyplot as plt\n",
    "import numpy as np\n",
    "plt.style.use('fivethirtyeight')"
   ]
  },
  {
   "cell_type": "markdown",
   "metadata": {},
   "source": [
    "# Project 1: Covid-19 and Exponential Growth"
   ]
  },
  {
   "cell_type": "markdown",
   "metadata": {},
   "source": [
    "## Table of Contents\n",
    "<a href='#section 0'>Background Knowledge: Spread of Disease</a>\n",
    "\n",
    "1.  <a href='#section 1'> The Data Science Life Cycle</a>\n",
    "\n",
    "    a. <a href='#subsection 1a'>Formulating a question or problem</a> \n",
    "\n",
    "    b. <a href='#subsection 1b'>Acquiring and cleaning data</a>\n",
    "\n",
    "    c. <a href='#subsection 1c'>Conducting exploratory data analysis</a>\n",
    "\n",
    "    d. <a href='#subsection 1d'>Using prediction and inference to draw conclusions</a>\n",
    "<br><br>"
   ]
  },
  {
   "cell_type": "markdown",
   "metadata": {},
   "source": [
    "### Background Knowledge <a id='section 0'></a>\n"
   ]
  },
  {
   "cell_type": "markdown",
   "metadata": {},
   "source": [
    "Exponential growth video: https://www.youtube.com/watch?v=MHRQ1UGKRyI&feature=youtu.be\n",
    "\n",
    "Exponential growth describes a quantity that's changing by some constant factor for every unit of time. For example, a value that is doubling every month is exponential growth. Let's look at this will a rumor. If you hear a rumor and only tell 1 other person each day, then only 11 people will know after 10 days. Now, telling 2 new people may not seem like that much of a difference, but it will end up reaching 1024 people in those 10 day instead of 11. This is exponential growth.\n",
    "<img src=\"images/rumor_img.png\" width = 500/>\n",
    "\n",
    "For diseases, different infections spread through populations at different rates. The \"basic reproductive number\", or R0, is the number of people each infected person is expected to infect if no one has been vaccinated.\n",
    "<img src=\"images/linear_v_exp.png\" width = 500/>\n"
   ]
  },
  {
   "cell_type": "markdown",
   "metadata": {},
   "source": [
    "<img src=\"images/r0.png\" width = 700/>"
   ]
  },
  {
   "cell_type": "markdown",
   "metadata": {},
   "source": [
    "#### Practice questions"
   ]
  },
  {
   "cell_type": "markdown",
   "metadata": {},
   "source": [
    "1. If a disease has an R0 of 4, and 100 people come into contact with an infected individual on average, what is the probability that any one friend becomes infected? Hint: look at the middle diagram above."
   ]
  },
  {
   "cell_type": "markdown",
   "metadata": {},
   "source": [
    "*Insert your answer here, replacing this text.*"
   ]
  },
  {
   "cell_type": "markdown",
   "metadata": {},
   "source": [
    "2. How many of the 100 friends would need to be vaccinated to bring the R0 down to 1? (a linear rate instead of an exponential rate)"
   ]
  },
  {
   "cell_type": "markdown",
   "metadata": {},
   "source": [
    "*Insert your answer here, replacing this text.*"
   ]
  },
  {
   "cell_type": "markdown",
   "metadata": {},
   "source": [
    "# The Data Science Life Cycle <a id='section 1'></a>"
   ]
  },
  {
   "cell_type": "markdown",
   "metadata": {},
   "source": [
    "## Formulating a question or problem <a id='subsection 1a'></a>\n",
    "It is important to ask questions that will be informative and that will avoid misleading results. There are many different questions we could ask about Covid-19, for example, many researchers use data to predict the outcomes based on intervention techniques such as social distancing. https://www.washingtonpost.com/graphics/2020/world/corona-simulator/ "
   ]
  },
  {
   "cell_type": "markdown",
   "metadata": {},
   "source": [
    "<div class=\"alert alert-warning\">\n",
    "<b>Question:</b> Take some time to formulate questions you have about this pandemic and the data you would need to answer the question.\n",
    "    \n",
    "   </div>\n"
   ]
  },
  {
   "cell_type": "markdown",
   "metadata": {},
   "source": [
    "Your questions: *here*\n",
    "\n",
    "\n",
    "Data you would need: *here*"
   ]
  },
  {
   "cell_type": "markdown",
   "metadata": {},
   "source": [
    "## Acquiring and cleaning data <a id='subsection 1b'></a>\n",
    "\n",
    "We'll be looking at the COVID-19 Data Repository from Johns Hopkins University. You can find the raw data [here](https://github.com/CSSEGISandData/COVID-19). We've cleaned up the datasets a bit, but we will be investigating the number of confirmed cases and the number of new cases in the United States from March to June.\n",
    "\n",
    "The following table, `confirmed_cases`, contains the number of confirmed cases at the start of each month for every county in the United States."
   ]
  },
  {
   "cell_type": "code",
   "execution_count": 97,
   "metadata": {
    "scrolled": true
   },
   "outputs": [
    {
     "data": {
      "text/html": [
       "<table border=\"1\" class=\"dataframe\">\n",
       "    <thead>\n",
       "        <tr>\n",
       "            <th>County</th> <th>State</th> <th>Combined_Key</th> <th>3/1/2020</th> <th>4/1/2020</th> <th>5/1/2020</th> <th>6/1/2020</th>\n",
       "        </tr>\n",
       "    </thead>\n",
       "    <tbody>\n",
       "        <tr>\n",
       "            <td>nan    </td> <td>American Samoa          </td> <td>American Samoa, US          </td> <td>0       </td> <td>0       </td> <td>0       </td> <td>0       </td>\n",
       "        </tr>\n",
       "        <tr>\n",
       "            <td>nan    </td> <td>Guam                    </td> <td>Guam, US                    </td> <td>0       </td> <td>77      </td> <td>145     </td> <td>175     </td>\n",
       "        </tr>\n",
       "        <tr>\n",
       "            <td>nan    </td> <td>Northern Mariana Islands</td> <td>Northern Mariana Islands, US</td> <td>0       </td> <td>6       </td> <td>14      </td> <td>22      </td>\n",
       "        </tr>\n",
       "        <tr>\n",
       "            <td>nan    </td> <td>Puerto Rico             </td> <td>Puerto Rico, US             </td> <td>0       </td> <td>286     </td> <td>1575    </td> <td>3873    </td>\n",
       "        </tr>\n",
       "        <tr>\n",
       "            <td>nan    </td> <td>Virgin Islands          </td> <td>Virgin Islands, US          </td> <td>0       </td> <td>30      </td> <td>66      </td> <td>70      </td>\n",
       "        </tr>\n",
       "        <tr>\n",
       "            <td>Autauga</td> <td>Alabama                 </td> <td>Autauga, Alabama, US        </td> <td>0       </td> <td>8       </td> <td>42      </td> <td>233     </td>\n",
       "        </tr>\n",
       "        <tr>\n",
       "            <td>Baldwin</td> <td>Alabama                 </td> <td>Baldwin, Alabama, US        </td> <td>0       </td> <td>20      </td> <td>175     </td> <td>292     </td>\n",
       "        </tr>\n",
       "        <tr>\n",
       "            <td>Barbour</td> <td>Alabama                 </td> <td>Barbour, Alabama, US        </td> <td>0       </td> <td>0       </td> <td>42      </td> <td>172     </td>\n",
       "        </tr>\n",
       "        <tr>\n",
       "            <td>Bibb   </td> <td>Alabama                 </td> <td>Bibb, Alabama, US           </td> <td>0       </td> <td>3       </td> <td>42      </td> <td>76      </td>\n",
       "        </tr>\n",
       "        <tr>\n",
       "            <td>Blount </td> <td>Alabama                 </td> <td>Blount, Alabama, US         </td> <td>0       </td> <td>5       </td> <td>39      </td> <td>63      </td>\n",
       "        </tr>\n",
       "    </tbody>\n",
       "</table>\n",
       "<p>... (3249 rows omitted)</p>"
      ],
      "text/plain": [
       "<IPython.core.display.HTML object>"
      ]
     },
     "metadata": {},
     "output_type": "display_data"
    }
   ],
   "source": [
    "confirmed_cases = Table().read_table(\"data/covid_by_county.csv\")\n",
    "confirmed_cases.show(10)"
   ]
  },
  {
   "cell_type": "markdown",
   "metadata": {},
   "source": [
    "<div class=\"alert alert-warning\">\n",
    "<b>Question:</b> It's important to evalute our data source. What do you know about Johns Hopkins University? What motivations do they have for collecting this data?\n",
    "   </div>"
   ]
  },
  {
   "cell_type": "markdown",
   "metadata": {},
   "source": []
  },
  {
   "cell_type": "markdown",
   "metadata": {},
   "source": [
    "<div class=\"alert alert-warning\">\n",
    "<b>Question:</b> Do you see any missing (nan) values? Why might they be there?\n",
    "   </div>"
   ]
  },
  {
   "cell_type": "markdown",
   "metadata": {},
   "source": [
    "*Insert answer here*"
   ]
  },
  {
   "cell_type": "markdown",
   "metadata": {},
   "source": [
    "<div class=\"alert alert-warning\">\n",
    "<b>Question:</b> We want to learn more about the dataset. First, how many total rows are in this table? What does each row represent?\n",
    "    \n",
    "   </div>"
   ]
  },
  {
   "cell_type": "code",
   "execution_count": 98,
   "metadata": {},
   "outputs": [],
   "source": [
    "total_rows = ..."
   ]
  },
  {
   "cell_type": "markdown",
   "metadata": {},
   "source": [
    "*Insert answer here*"
   ]
  },
  {
   "cell_type": "markdown",
   "metadata": {},
   "source": [
    "## Conducting exploratory data analysis <a id='subsection 1c'></a>"
   ]
  },
  {
   "cell_type": "markdown",
   "metadata": {},
   "source": [
    "Visualizations help us to understand what the dataset is telling us. Compare the county with the most confirmed cases on April 1st with the next 9 most confirmed cases in a bar chart. "
   ]
  },
  {
   "cell_type": "markdown",
   "metadata": {},
   "source": [
    "<div class=\"alert alert-warning\">\n",
    "<b>Question:</b> First, sort the dataset to show the counties with the most cases at the top of the table.\n",
    "   </div>"
   ]
  },
  {
   "cell_type": "code",
   "execution_count": 99,
   "metadata": {},
   "outputs": [],
   "source": [
    "sorted_cases = ..."
   ]
  },
  {
   "cell_type": "code",
   "execution_count": 100,
   "metadata": {
    "scrolled": false
   },
   "outputs": [
    {
     "data": {
      "image/png": "[encoded data removed]",
      "text/plain": [
       "<Figure size 432x360 with 1 Axes>"
      ]
     },
     "metadata": {},
     "output_type": "display_data"
    }
   ],
   "source": [
    "#KEY\n",
    "top_ten = confirmed_cases.sort(\"4/1/2020\", descending = True).take(np.arange(10))\n",
    "top_ten.barh(\"County\", \"4/1/2020\")"
   ]
  },
  {
   "cell_type": "markdown",
   "metadata": {},
   "source": [
    "<div class=\"alert alert-warning\">\n",
    "<b>Question:</b> Now, cut down the table to only have the top ten from sorted_cases above.\n",
    "   </div>"
   ]
  },
  {
   "cell_type": "code",
   "execution_count": 101,
   "metadata": {},
   "outputs": [],
   "source": [
    "top_ten = ..."
   ]
  },
  {
   "cell_type": "markdown",
   "metadata": {},
   "source": [
    "<div class=\"alert alert-warning\">\n",
    "<b>Question:</b> Next, create a bar chart to visualize the comparison between the top_ten counties for the number of cases on April 1st.\n",
    "   </div>"
   ]
  },
  {
   "cell_type": "code",
   "execution_count": 102,
   "metadata": {
    "scrolled": true
   },
   "outputs": [
    {
     "data": {
      "text/plain": [
       "Ellipsis"
      ]
     },
     "execution_count": 102,
     "metadata": {},
     "output_type": "execute_result"
    }
   ],
   "source": [
    "..."
   ]
  },
  {
   "cell_type": "markdown",
   "metadata": {},
   "source": [
    "<div class=\"alert alert-warning\">\n",
    "<b>Question:</b> Let's look at the counties in California. First, return a table that only has the California counties. Then, select the counties from the table you want to compare to each other. \n",
    "   </div>"
   ]
  },
  {
   "cell_type": "code",
   "execution_count": 103,
   "metadata": {},
   "outputs": [],
   "source": [
    "ca_cases = ..."
   ]
  },
  {
   "cell_type": "code",
   "execution_count": 104,
   "metadata": {},
   "outputs": [],
   "source": [
    "select_counties = ..."
   ]
  },
  {
   "cell_type": "markdown",
   "metadata": {},
   "source": [
    "<div class=\"alert alert-warning\">\n",
    "<b>Question:</b> Now make another bar chart using your selected counties and the number of cases on May 1st.\n",
    "   </div>"
   ]
  },
  {
   "cell_type": "code",
   "execution_count": 105,
   "metadata": {},
   "outputs": [
    {
     "data": {
      "text/plain": [
       "Ellipsis"
      ]
     },
     "execution_count": 105,
     "metadata": {},
     "output_type": "execute_result"
    }
   ],
   "source": [
    "..."
   ]
  },
  {
   "cell_type": "markdown",
   "metadata": {},
   "source": [
    "<div class=\"alert alert-warning\">\n",
    "<b>Question:</b> What are some possible reasons for the disparities in certain counties? Hint: Think about the size of the counties.\n",
    "   </div>"
   ]
  },
  {
   "cell_type": "markdown",
   "metadata": {},
   "source": [
    "*Insert answer here.*"
   ]
  },
  {
   "cell_type": "markdown",
   "metadata": {},
   "source": [
    "A disease will spread more when there are more people in a population to spread to. Let's look at the population of the states to compare the percentages based on the number of people. Here is a table with the states and their populations. "
   ]
  },
  {
   "cell_type": "code",
   "execution_count": 106,
   "metadata": {},
   "outputs": [
    {
     "data": {
      "text/html": [
       "<table border=\"1\" class=\"dataframe\">\n",
       "    <thead>\n",
       "        <tr>\n",
       "            <th>State</th> <th>Population</th>\n",
       "        </tr>\n",
       "    </thead>\n",
       "    <tbody>\n",
       "        <tr>\n",
       "            <td>Alabama         </td> <td>4903185   </td>\n",
       "        </tr>\n",
       "        <tr>\n",
       "            <td>Alaska          </td> <td>731545    </td>\n",
       "        </tr>\n",
       "        <tr>\n",
       "            <td>American Samoa  </td> <td>55641     </td>\n",
       "        </tr>\n",
       "        <tr>\n",
       "            <td>Arizona         </td> <td>7278717   </td>\n",
       "        </tr>\n",
       "        <tr>\n",
       "            <td>Arkansas        </td> <td>3017804   </td>\n",
       "        </tr>\n",
       "        <tr>\n",
       "            <td>California      </td> <td>39512223  </td>\n",
       "        </tr>\n",
       "        <tr>\n",
       "            <td>Colorado        </td> <td>5758736   </td>\n",
       "        </tr>\n",
       "        <tr>\n",
       "            <td>Connecticut     </td> <td>3565287   </td>\n",
       "        </tr>\n",
       "        <tr>\n",
       "            <td>Delaware        </td> <td>973764    </td>\n",
       "        </tr>\n",
       "        <tr>\n",
       "            <td>Diamond Princess</td> <td>0         </td>\n",
       "        </tr>\n",
       "    </tbody>\n",
       "</table>\n",
       "<p>... (48 rows omitted)</p>"
      ],
      "text/plain": [
       "State            | Population\n",
       "Alabama          | 4903185\n",
       "Alaska           | 731545\n",
       "American Samoa   | 55641\n",
       "Arizona          | 7278717\n",
       "Arkansas         | 3017804\n",
       "California       | 39512223\n",
       "Colorado         | 5758736\n",
       "Connecticut      | 3565287\n",
       "Delaware         | 973764\n",
       "Diamond Princess | 0\n",
       "... (48 rows omitted)"
      ]
     },
     "execution_count": 106,
     "metadata": {},
     "output_type": "execute_result"
    }
   ],
   "source": [
    "pop_by_state = Table().read_table(\"data/pop_by_state.csv\")\n",
    "pop_by_state"
   ]
  },
  {
   "cell_type": "markdown",
   "metadata": {},
   "source": [
    "<div class=\"alert alert-warning\">\n",
    "<b>Question:</b> First, group the confirmed cases to show the number of cases for each state and the sum of the cases.\n",
    "   </div>"
   ]
  },
  {
   "cell_type": "code",
   "execution_count": 107,
   "metadata": {},
   "outputs": [],
   "source": [
    "grouped_by_state = ..."
   ]
  },
  {
   "cell_type": "code",
   "execution_count": 108,
   "metadata": {},
   "outputs": [
    {
     "data": {
      "text/html": [
       "<table border=\"1\" class=\"dataframe\">\n",
       "    <thead>\n",
       "        <tr>\n",
       "            <th>State</th> <th>3/1/2020 sum</th> <th>4/1/2020 sum</th> <th>5/1/2020 sum</th> <th>6/1/2020 sum</th>\n",
       "        </tr>\n",
       "    </thead>\n",
       "    <tbody>\n",
       "        <tr>\n",
       "            <td>Alabama             </td> <td>0           </td> <td>1060        </td> <td>7294        </td> <td>18630       </td>\n",
       "        </tr>\n",
       "        <tr>\n",
       "            <td>Alaska              </td> <td>0           </td> <td>132         </td> <td>364         </td> <td>466         </td>\n",
       "        </tr>\n",
       "        <tr>\n",
       "            <td>American Samoa      </td> <td>0           </td> <td>0           </td> <td>0           </td> <td>0           </td>\n",
       "        </tr>\n",
       "        <tr>\n",
       "            <td>Arizona             </td> <td>1           </td> <td>1413        </td> <td>7969        </td> <td>20129       </td>\n",
       "        </tr>\n",
       "        <tr>\n",
       "            <td>Arkansas            </td> <td>0           </td> <td>584         </td> <td>3337        </td> <td>7443        </td>\n",
       "        </tr>\n",
       "        <tr>\n",
       "            <td>California          </td> <td>12          </td> <td>9399        </td> <td>52026       </td> <td>114733      </td>\n",
       "        </tr>\n",
       "        <tr>\n",
       "            <td>Colorado            </td> <td>0           </td> <td>3342        </td> <td>15793       </td> <td>26563       </td>\n",
       "        </tr>\n",
       "        <tr>\n",
       "            <td>Connecticut         </td> <td>0           </td> <td>3557        </td> <td>28764       </td> <td>42740       </td>\n",
       "        </tr>\n",
       "        <tr>\n",
       "            <td>Delaware            </td> <td>0           </td> <td>368         </td> <td>4918        </td> <td>9605        </td>\n",
       "        </tr>\n",
       "        <tr>\n",
       "            <td>District of Columbia</td> <td>0           </td> <td>586         </td> <td>4658        </td> <td>8857        </td>\n",
       "        </tr>\n",
       "    </tbody>\n",
       "</table>\n",
       "<p>... (46 rows omitted)</p>"
      ],
      "text/plain": [
       "State                | 3/1/2020 sum | 4/1/2020 sum | 5/1/2020 sum | 6/1/2020 sum\n",
       "Alabama              | 0            | 1060         | 7294         | 18630\n",
       "Alaska               | 0            | 132          | 364          | 466\n",
       "American Samoa       | 0            | 0            | 0            | 0\n",
       "Arizona              | 1            | 1413         | 7969         | 20129\n",
       "Arkansas             | 0            | 584          | 3337         | 7443\n",
       "California           | 12           | 9399         | 52026        | 114733\n",
       "Colorado             | 0            | 3342         | 15793        | 26563\n",
       "Connecticut          | 0            | 3557         | 28764        | 42740\n",
       "Delaware             | 0            | 368          | 4918         | 9605\n",
       "District of Columbia | 0            | 586          | 4658         | 8857\n",
       "... (46 rows omitted)"
      ]
     },
     "execution_count": 108,
     "metadata": {},
     "output_type": "execute_result"
    }
   ],
   "source": [
    "#KEY\n",
    "grouped_by_state = confirmed_cases.group(\"State\", sum).drop(1, 2)\n",
    "grouped_by_state"
   ]
  },
  {
   "cell_type": "markdown",
   "metadata": {},
   "source": [
    "<div class=\"alert alert-warning\">\n",
    "<b>Question:</b> Now join this table with the pop_by_state table and add a column called \"Percentage\" that has the number of cases on 6/1/2020 divided by the population.\n",
    "   </div>"
   ]
  },
  {
   "cell_type": "code",
   "execution_count": 83,
   "metadata": {
    "scrolled": true
   },
   "outputs": [
    {
     "data": {
      "text/html": [
       "<table border=\"1\" class=\"dataframe\">\n",
       "    <thead>\n",
       "        <tr>\n",
       "            <th>State</th> <th>3/1/2020 sum</th> <th>4/1/2020 sum</th> <th>5/1/2020 sum</th> <th>6/1/2020 sum</th> <th>Population</th> <th>Percentage</th>\n",
       "        </tr>\n",
       "    </thead>\n",
       "    <tbody>\n",
       "        <tr>\n",
       "            <td>Alabama             </td> <td>0           </td> <td>1060        </td> <td>7294        </td> <td>18630       </td> <td>4903185   </td> <td>0.00379957 </td>\n",
       "        </tr>\n",
       "        <tr>\n",
       "            <td>Alaska              </td> <td>0           </td> <td>132         </td> <td>364         </td> <td>466         </td> <td>731545    </td> <td>0.000637008</td>\n",
       "        </tr>\n",
       "        <tr>\n",
       "            <td>American Samoa      </td> <td>0           </td> <td>0           </td> <td>0           </td> <td>0           </td> <td>55641     </td> <td>0          </td>\n",
       "        </tr>\n",
       "        <tr>\n",
       "            <td>Arizona             </td> <td>1           </td> <td>1413        </td> <td>7969        </td> <td>20129       </td> <td>7278717   </td> <td>0.00276546 </td>\n",
       "        </tr>\n",
       "        <tr>\n",
       "            <td>Arkansas            </td> <td>0           </td> <td>584         </td> <td>3337        </td> <td>7443        </td> <td>3017804   </td> <td>0.00246636 </td>\n",
       "        </tr>\n",
       "        <tr>\n",
       "            <td>California          </td> <td>12          </td> <td>9399        </td> <td>52026       </td> <td>114733      </td> <td>39512223  </td> <td>0.00290373 </td>\n",
       "        </tr>\n",
       "        <tr>\n",
       "            <td>Colorado            </td> <td>0           </td> <td>3342        </td> <td>15793       </td> <td>26563       </td> <td>5758736   </td> <td>0.00461264 </td>\n",
       "        </tr>\n",
       "        <tr>\n",
       "            <td>Connecticut         </td> <td>0           </td> <td>3557        </td> <td>28764       </td> <td>42740       </td> <td>3565287   </td> <td>0.0119878  </td>\n",
       "        </tr>\n",
       "        <tr>\n",
       "            <td>Delaware            </td> <td>0           </td> <td>368         </td> <td>4918        </td> <td>9605        </td> <td>973764    </td> <td>0.00986379 </td>\n",
       "        </tr>\n",
       "        <tr>\n",
       "            <td>District of Columbia</td> <td>0           </td> <td>586         </td> <td>4658        </td> <td>8857        </td> <td>705749    </td> <td>0.0125498  </td>\n",
       "        </tr>\n",
       "    </tbody>\n",
       "</table>\n",
       "<p>... (46 rows omitted)</p>"
      ],
      "text/plain": [
       "State                | 3/1/2020 sum | 4/1/2020 sum | 5/1/2020 sum | 6/1/2020 sum | Population | Percentage\n",
       "Alabama              | 0            | 1060         | 7294         | 18630        | 4903185    | 0.00379957\n",
       "Alaska               | 0            | 132          | 364          | 466          | 731545     | 0.000637008\n",
       "American Samoa       | 0            | 0            | 0            | 0            | 55641      | 0\n",
       "Arizona              | 1            | 1413         | 7969         | 20129        | 7278717    | 0.00276546\n",
       "Arkansas             | 0            | 584          | 3337         | 7443         | 3017804    | 0.00246636\n",
       "California           | 12           | 9399         | 52026        | 114733       | 39512223   | 0.00290373\n",
       "Colorado             | 0            | 3342         | 15793        | 26563        | 5758736    | 0.00461264\n",
       "Connecticut          | 0            | 3557         | 28764        | 42740        | 3565287    | 0.0119878\n",
       "Delaware             | 0            | 368          | 4918         | 9605         | 973764     | 0.00986379\n",
       "District of Columbia | 0            | 586          | 4658         | 8857         | 705749     | 0.0125498\n",
       "... (46 rows omitted)"
      ]
     },
     "execution_count": 83,
     "metadata": {},
     "output_type": "execute_result"
    }
   ],
   "source": [
    "#Key => will decide how to split up into steps during meeting w Ashley and Karla\n",
    "with_pop = grouped_by_state.join(\"State\", pop_by_state).with_column(\"Percentage\", with_pop.column(\"6/1/2020 sum\")/with_pop.column(\"Population\"))\n",
    "with_pop"
   ]
  },
  {
   "cell_type": "code",
   "execution_count": null,
   "metadata": {},
   "outputs": [],
   "source": [
    "with_pop = ..."
   ]
  },
  {
   "cell_type": "code",
   "execution_count": 89,
   "metadata": {
    "scrolled": true
   },
   "outputs": [
    {
     "data": {
      "text/html": [
       "<table border=\"1\" class=\"dataframe\">\n",
       "    <thead>\n",
       "        <tr>\n",
       "            <th>State</th> <th>3/1/2020 sum</th> <th>4/1/2020 sum</th> <th>5/1/2020 sum</th> <th>6/1/2020 sum</th> <th>Population</th> <th>Percentage</th>\n",
       "        </tr>\n",
       "    </thead>\n",
       "    <tbody>\n",
       "        <tr>\n",
       "            <td>New Jersey          </td> <td>0           </td> <td>22255       </td> <td>121190      </td> <td>160918      </td> <td>8882190   </td> <td>0.0181169 </td>\n",
       "        </tr>\n",
       "        <tr>\n",
       "            <td>Massachusetts       </td> <td>1           </td> <td>7738        </td> <td>64311       </td> <td>100805      </td> <td>6892503   </td> <td>0.0146253 </td>\n",
       "        </tr>\n",
       "        <tr>\n",
       "            <td>New York            </td> <td>0           </td> <td>83948       </td> <td>308314      </td> <td>371711      </td> <td>26161672  </td> <td>0.0142082 </td>\n",
       "        </tr>\n",
       "        <tr>\n",
       "            <td>Rhode Island        </td> <td>1           </td> <td>566         </td> <td>8962        </td> <td>14991       </td> <td>1059361   </td> <td>0.014151  </td>\n",
       "        </tr>\n",
       "        <tr>\n",
       "            <td>District of Columbia</td> <td>0           </td> <td>586         </td> <td>4658        </td> <td>8857        </td> <td>705749    </td> <td>0.0125498 </td>\n",
       "        </tr>\n",
       "        <tr>\n",
       "            <td>Connecticut         </td> <td>0           </td> <td>3557        </td> <td>28764       </td> <td>42740       </td> <td>3565287   </td> <td>0.0119878 </td>\n",
       "        </tr>\n",
       "        <tr>\n",
       "            <td>Delaware            </td> <td>0           </td> <td>368         </td> <td>4918        </td> <td>9605        </td> <td>973764    </td> <td>0.00986379</td>\n",
       "        </tr>\n",
       "        <tr>\n",
       "            <td>Illinois            </td> <td>3           </td> <td>6980        </td> <td>56055       </td> <td>121234      </td> <td>12671821  </td> <td>0.00956721</td>\n",
       "        </tr>\n",
       "        <tr>\n",
       "            <td>Maryland            </td> <td>0           </td> <td>1986        </td> <td>23472       </td> <td>53327       </td> <td>6045680   </td> <td>0.00882068</td>\n",
       "        </tr>\n",
       "        <tr>\n",
       "            <td>Louisiana           </td> <td>0           </td> <td>6424        </td> <td>28711       </td> <td>40341       </td> <td>4648794   </td> <td>0.00867773</td>\n",
       "        </tr>\n",
       "    </tbody>\n",
       "</table>"
      ],
      "text/plain": [
       "State                | 3/1/2020 sum | 4/1/2020 sum | 5/1/2020 sum | 6/1/2020 sum | Population | Percentage\n",
       "New Jersey           | 0            | 22255        | 121190       | 160918       | 8882190    | 0.0181169\n",
       "Massachusetts        | 1            | 7738         | 64311        | 100805       | 6892503    | 0.0146253\n",
       "New York             | 0            | 83948        | 308314       | 371711       | 26161672   | 0.0142082\n",
       "Rhode Island         | 1            | 566          | 8962         | 14991        | 1059361    | 0.014151\n",
       "District of Columbia | 0            | 586          | 4658         | 8857         | 705749     | 0.0125498\n",
       "Connecticut          | 0            | 3557         | 28764        | 42740        | 3565287    | 0.0119878\n",
       "Delaware             | 0            | 368          | 4918         | 9605         | 973764     | 0.00986379\n",
       "Illinois             | 3            | 6980         | 56055        | 121234       | 12671821   | 0.00956721\n",
       "Maryland             | 0            | 1986         | 23472        | 53327        | 6045680    | 0.00882068\n",
       "Louisiana            | 0            | 6424         | 28711        | 40341        | 4648794    | 0.00867773"
      ]
     },
     "execution_count": 89,
     "metadata": {},
     "output_type": "execute_result"
    }
   ],
   "source": [
    "#KEY\n",
    "top_ten_pct = with_pop.sort(\"Percentage\", descending = True).take(np.arange(10))\n",
    "top_ten_pct"
   ]
  },
  {
   "cell_type": "code",
   "execution_count": 109,
   "metadata": {},
   "outputs": [],
   "source": [
    "top_ten_pct = ..."
   ]
  },
  {
   "cell_type": "code",
   "execution_count": null,
   "metadata": {},
   "outputs": [],
   "source": [
    "..."
   ]
  },
  {
   "cell_type": "code",
   "execution_count": 90,
   "metadata": {},
   "outputs": [
    {
     "data": {
      "image/png": "[encoded data removed]",
      "text/plain": [
       "<Figure size 432x360 with 1 Axes>"
      ]
     },
     "metadata": {},
     "output_type": "display_data"
    }
   ],
   "source": [
    "#KEY\n",
    "top_ten_pct.barh(\"State\", \"Percentage\")"
   ]
  },
  {
   "cell_type": "markdown",
   "metadata": {},
   "source": [
    "## Using prediction and inference to draw conclusions <a id='subsection 1a'></a>"
   ]
  },
  {
   "cell_type": "markdown",
   "metadata": {},
   "source": [
    "Now that we have some experience making these visualizations, let's go back to exponential growth. We know that, without intervention, a disease can behave like a rumor and spread at an alarming rate. From the previous section, we also know that we need to take into account the population of the region when looking at the number of cases in order to get a more accurate percentage instead of just comparing the number of cases. "
   ]
  },
  {
   "cell_type": "markdown",
   "metadata": {},
   "source": [
    "Now we will read in two tables: Covid by State and Population by state in order to look at the percentage of the cases. And the growth of the "
   ]
  },
  {
   "cell_type": "code",
   "execution_count": 22,
   "metadata": {
    "scrolled": true
   },
   "outputs": [
    {
     "data": {
      "text/html": [
       "<table border=\"1\" class=\"dataframe\">\n",
       "    <thead>\n",
       "        <tr>\n",
       "            <th>Days since 3/1/20</th> <th>Alabama</th> <th>Alaska</th> <th>American Samoa</th> <th>Arizona</th> <th>Arkansas</th> <th>California</th> <th>Colorado</th> <th>Connecticut</th> <th>Delaware</th> <th>District of Columbia</th> <th>Florida</th> <th>Georgia</th> <th>Guam</th> <th>Hawaii</th> <th>Idaho</th> <th>Illinois</th> <th>Indiana</th> <th>Iowa</th> <th>Kansas</th> <th>Kentucky</th> <th>Louisiana</th> <th>Maine</th> <th>Maryland</th> <th>Massachusetts</th> <th>Michigan</th> <th>Minnesota</th> <th>Mississippi</th> <th>Missouri</th> <th>Montana</th> <th>Nebraska</th> <th>Nevada</th> <th>New Hampshire</th> <th>New Jersey</th> <th>New Mexico</th> <th>New York</th> <th>North Carolina</th> <th>North Dakota</th> <th>Northern Mariana Islands</th> <th>Ohio</th> <th>Oklahoma</th> <th>Oregon</th> <th>Pennsylvania</th> <th>Puerto Rico</th> <th>Rhode Island</th> <th>South Carolina</th> <th>South Dakota</th> <th>Tennessee</th> <th>Texas</th> <th>Utah</th> <th>Vermont</th> <th>Virgin Islands</th> <th>Virginia</th> <th>Washington</th> <th>West Virginia</th> <th>Wisconsin</th> <th>Wyoming</th>\n",
       "        </tr>\n",
       "    </thead>\n",
       "    <tbody>\n",
       "        <tr>\n",
       "            <td>0                </td> <td>0      </td> <td>0     </td> <td>0             </td> <td>1      </td> <td>0       </td> <td>12        </td> <td>0       </td> <td>0          </td> <td>0       </td> <td>0                   </td> <td>0      </td> <td>0      </td> <td>0   </td> <td>0     </td> <td>0    </td> <td>3       </td> <td>0      </td> <td>0   </td> <td>0     </td> <td>0       </td> <td>0        </td> <td>0    </td> <td>0       </td> <td>1            </td> <td>0       </td> <td>0        </td> <td>0          </td> <td>0       </td> <td>0      </td> <td>0       </td> <td>0     </td> <td>0            </td> <td>0         </td> <td>0         </td> <td>0       </td> <td>0             </td> <td>0           </td> <td>0                       </td> <td>0   </td> <td>0       </td> <td>1     </td> <td>0           </td> <td>0          </td> <td>1           </td> <td>0             </td> <td>0           </td> <td>0        </td> <td>0    </td> <td>0   </td> <td>0      </td> <td>0             </td> <td>0       </td> <td>11        </td> <td>0            </td> <td>0        </td> <td>0      </td>\n",
       "        </tr>\n",
       "        <tr>\n",
       "            <td>1                </td> <td>0      </td> <td>0     </td> <td>0             </td> <td>1      </td> <td>0       </td> <td>21        </td> <td>0       </td> <td>0          </td> <td>0       </td> <td>0                   </td> <td>1      </td> <td>0      </td> <td>0   </td> <td>0     </td> <td>0    </td> <td>4       </td> <td>0      </td> <td>0   </td> <td>0     </td> <td>0       </td> <td>0        </td> <td>0    </td> <td>0       </td> <td>1            </td> <td>0       </td> <td>0        </td> <td>0          </td> <td>0       </td> <td>0      </td> <td>0       </td> <td>0     </td> <td>1            </td> <td>0         </td> <td>0         </td> <td>1       </td> <td>0             </td> <td>0           </td> <td>0                       </td> <td>0   </td> <td>0       </td> <td>3     </td> <td>0           </td> <td>0          </td> <td>2           </td> <td>0             </td> <td>0           </td> <td>0        </td> <td>0    </td> <td>0   </td> <td>0      </td> <td>0             </td> <td>0       </td> <td>18        </td> <td>0            </td> <td>0        </td> <td>0      </td>\n",
       "        </tr>\n",
       "        <tr>\n",
       "            <td>2                </td> <td>0      </td> <td>0     </td> <td>0             </td> <td>1      </td> <td>0       </td> <td>25        </td> <td>0       </td> <td>0          </td> <td>0       </td> <td>0                   </td> <td>2      </td> <td>2      </td> <td>0   </td> <td>0     </td> <td>0    </td> <td>4       </td> <td>0      </td> <td>0   </td> <td>0     </td> <td>0       </td> <td>0        </td> <td>0    </td> <td>0       </td> <td>2            </td> <td>0       </td> <td>0        </td> <td>0          </td> <td>0       </td> <td>0      </td> <td>0       </td> <td>0     </td> <td>2            </td> <td>0         </td> <td>0         </td> <td>2       </td> <td>1             </td> <td>0           </td> <td>0                       </td> <td>0   </td> <td>0       </td> <td>3     </td> <td>0           </td> <td>0          </td> <td>2           </td> <td>0             </td> <td>0           </td> <td>0        </td> <td>0    </td> <td>0   </td> <td>0      </td> <td>0             </td> <td>0       </td> <td>27        </td> <td>0            </td> <td>0        </td> <td>0      </td>\n",
       "        </tr>\n",
       "        <tr>\n",
       "            <td>3                </td> <td>0      </td> <td>0     </td> <td>0             </td> <td>1      </td> <td>0       </td> <td>35        </td> <td>0       </td> <td>0          </td> <td>0       </td> <td>0                   </td> <td>2      </td> <td>2      </td> <td>0   </td> <td>0     </td> <td>0    </td> <td>4       </td> <td>0      </td> <td>0   </td> <td>0     </td> <td>0       </td> <td>0        </td> <td>0    </td> <td>0       </td> <td>2            </td> <td>0       </td> <td>0        </td> <td>0          </td> <td>0       </td> <td>0      </td> <td>0       </td> <td>0     </td> <td>2            </td> <td>0         </td> <td>0         </td> <td>11      </td> <td>1             </td> <td>0           </td> <td>0                       </td> <td>0   </td> <td>0       </td> <td>3     </td> <td>0           </td> <td>0          </td> <td>2           </td> <td>0             </td> <td>0           </td> <td>0        </td> <td>0    </td> <td>0   </td> <td>0      </td> <td>0             </td> <td>0       </td> <td>39        </td> <td>0            </td> <td>0        </td> <td>0      </td>\n",
       "        </tr>\n",
       "        <tr>\n",
       "            <td>4                </td> <td>0      </td> <td>0     </td> <td>0             </td> <td>1      </td> <td>0       </td> <td>51        </td> <td>2       </td> <td>0          </td> <td>0       </td> <td>0                   </td> <td>3      </td> <td>2      </td> <td>0   </td> <td>0     </td> <td>0    </td> <td>5       </td> <td>0      </td> <td>0   </td> <td>0     </td> <td>0       </td> <td>0        </td> <td>0    </td> <td>0       </td> <td>2            </td> <td>0       </td> <td>0        </td> <td>0          </td> <td>0       </td> <td>0      </td> <td>0       </td> <td>1     </td> <td>2            </td> <td>2         </td> <td>0         </td> <td>23      </td> <td>1             </td> <td>0           </td> <td>0                       </td> <td>0   </td> <td>0       </td> <td>3     </td> <td>0           </td> <td>0          </td> <td>2           </td> <td>0             </td> <td>0           </td> <td>1        </td> <td>3    </td> <td>0   </td> <td>0      </td> <td>0             </td> <td>0       </td> <td>70        </td> <td>0            </td> <td>0        </td> <td>0      </td>\n",
       "        </tr>\n",
       "    </tbody>\n",
       "</table>\n",
       "<p>... (96 rows omitted)</p>"
      ],
      "text/plain": [
       "<IPython.core.display.HTML object>"
      ]
     },
     "metadata": {},
     "output_type": "display_data"
    }
   ],
   "source": [
    "covid_by_state = Table().read_table(\"data/covid_by_state.csv\")\n",
    "covid_by_state.show(5)"
   ]
  },
  {
   "cell_type": "code",
   "execution_count": 25,
   "metadata": {
    "scrolled": false
   },
   "outputs": [
    {
     "data": {
      "image/png": "[encoded data removed]",
      "text/plain": [
       "<Figure size 432x288 with 1 Axes>"
      ]
     },
     "metadata": {},
     "output_type": "display_data"
    }
   ],
   "source": [
    "covid_by_state.plot(0, 'New York')"
   ]
  },
  {
   "cell_type": "code",
   "execution_count": 27,
   "metadata": {},
   "outputs": [
    {
     "data": {
      "text/html": [
       "<table border=\"1\" class=\"dataframe\">\n",
       "    <thead>\n",
       "        <tr>\n",
       "            <th>Days since 3/1/20</th> <th>Alabama sum</th> <th>Alaska sum</th> <th>American Samoa sum</th> <th>Arizona sum</th> <th>Arkansas sum</th> <th>California sum</th> <th>Colorado sum</th> <th>Connecticut sum</th> <th>Delaware sum</th> <th>District of Columbia sum</th> <th>Florida sum</th> <th>Georgia sum</th> <th>Guam sum</th> <th>Hawaii sum</th> <th>Idaho sum</th> <th>Illinois sum</th> <th>Indiana sum</th> <th>Iowa sum</th> <th>Kansas sum</th> <th>Kentucky sum</th> <th>Louisiana sum</th> <th>Maine sum</th> <th>Maryland sum</th> <th>Massachusetts sum</th> <th>Michigan sum</th> <th>Minnesota sum</th> <th>Mississippi sum</th> <th>Missouri sum</th> <th>Montana sum</th> <th>Nebraska sum</th> <th>Nevada sum</th> <th>New Hampshire sum</th> <th>New Jersey sum</th> <th>New Mexico sum</th> <th>New York sum</th> <th>North Carolina sum</th> <th>North Dakota sum</th> <th>Northern Mariana Islands sum</th> <th>Ohio sum</th> <th>Oklahoma sum</th> <th>Oregon sum</th> <th>Pennsylvania sum</th> <th>Puerto Rico sum</th> <th>Rhode Island sum</th> <th>South Carolina sum</th> <th>South Dakota sum</th> <th>Tennessee sum</th> <th>Texas sum</th> <th>Utah sum</th> <th>Vermont sum</th> <th>Virgin Islands sum</th> <th>Virginia sum</th> <th>Washington sum</th> <th>West Virginia sum</th> <th>Wisconsin sum</th> <th>Wyoming sum</th>\n",
       "        </tr>\n",
       "    </thead>\n",
       "    <tbody>\n",
       "        <tr>\n",
       "            <td>0                </td> <td>0          </td> <td>0         </td> <td>0                 </td> <td>1          </td> <td>0           </td> <td>12            </td> <td>0           </td> <td>0              </td> <td>0           </td> <td>0                       </td> <td>0          </td> <td>0          </td> <td>0       </td> <td>0         </td> <td>0        </td> <td>3           </td> <td>0          </td> <td>0       </td> <td>0         </td> <td>0           </td> <td>0            </td> <td>0        </td> <td>0           </td> <td>1                </td> <td>0           </td> <td>0            </td> <td>0              </td> <td>0           </td> <td>0          </td> <td>0           </td> <td>0         </td> <td>0                </td> <td>0             </td> <td>0             </td> <td>0           </td> <td>0                 </td> <td>0               </td> <td>0                           </td> <td>0       </td> <td>0           </td> <td>1         </td> <td>0               </td> <td>0              </td> <td>1               </td> <td>0                 </td> <td>0               </td> <td>0            </td> <td>0        </td> <td>0       </td> <td>0          </td> <td>0                 </td> <td>0           </td> <td>11            </td> <td>0                </td> <td>0            </td> <td>0          </td>\n",
       "        </tr>\n",
       "        <tr>\n",
       "            <td>1                </td> <td>0          </td> <td>0         </td> <td>0                 </td> <td>1          </td> <td>0           </td> <td>21            </td> <td>0           </td> <td>0              </td> <td>0           </td> <td>0                       </td> <td>1          </td> <td>0          </td> <td>0       </td> <td>0         </td> <td>0        </td> <td>4           </td> <td>0          </td> <td>0       </td> <td>0         </td> <td>0           </td> <td>0            </td> <td>0        </td> <td>0           </td> <td>1                </td> <td>0           </td> <td>0            </td> <td>0              </td> <td>0           </td> <td>0          </td> <td>0           </td> <td>0         </td> <td>1                </td> <td>0             </td> <td>0             </td> <td>1           </td> <td>0                 </td> <td>0               </td> <td>0                           </td> <td>0       </td> <td>0           </td> <td>3         </td> <td>0               </td> <td>0              </td> <td>2               </td> <td>0                 </td> <td>0               </td> <td>0            </td> <td>0        </td> <td>0       </td> <td>0          </td> <td>0                 </td> <td>0           </td> <td>18            </td> <td>0                </td> <td>0            </td> <td>0          </td>\n",
       "        </tr>\n",
       "        <tr>\n",
       "            <td>2                </td> <td>0          </td> <td>0         </td> <td>0                 </td> <td>1          </td> <td>0           </td> <td>25            </td> <td>0           </td> <td>0              </td> <td>0           </td> <td>0                       </td> <td>2          </td> <td>2          </td> <td>0       </td> <td>0         </td> <td>0        </td> <td>4           </td> <td>0          </td> <td>0       </td> <td>0         </td> <td>0           </td> <td>0            </td> <td>0        </td> <td>0           </td> <td>2                </td> <td>0           </td> <td>0            </td> <td>0              </td> <td>0           </td> <td>0          </td> <td>0           </td> <td>0         </td> <td>2                </td> <td>0             </td> <td>0             </td> <td>2           </td> <td>1                 </td> <td>0               </td> <td>0                           </td> <td>0       </td> <td>0           </td> <td>3         </td> <td>0               </td> <td>0              </td> <td>2               </td> <td>0                 </td> <td>0               </td> <td>0            </td> <td>0        </td> <td>0       </td> <td>0          </td> <td>0                 </td> <td>0           </td> <td>27            </td> <td>0                </td> <td>0            </td> <td>0          </td>\n",
       "        </tr>\n",
       "        <tr>\n",
       "            <td>3                </td> <td>0          </td> <td>0         </td> <td>0                 </td> <td>1          </td> <td>0           </td> <td>35            </td> <td>0           </td> <td>0              </td> <td>0           </td> <td>0                       </td> <td>2          </td> <td>2          </td> <td>0       </td> <td>0         </td> <td>0        </td> <td>4           </td> <td>0          </td> <td>0       </td> <td>0         </td> <td>0           </td> <td>0            </td> <td>0        </td> <td>0           </td> <td>2                </td> <td>0           </td> <td>0            </td> <td>0              </td> <td>0           </td> <td>0          </td> <td>0           </td> <td>0         </td> <td>2                </td> <td>0             </td> <td>0             </td> <td>11          </td> <td>1                 </td> <td>0               </td> <td>0                           </td> <td>0       </td> <td>0           </td> <td>3         </td> <td>0               </td> <td>0              </td> <td>2               </td> <td>0                 </td> <td>0               </td> <td>0            </td> <td>0        </td> <td>0       </td> <td>0          </td> <td>0                 </td> <td>0           </td> <td>39            </td> <td>0                </td> <td>0            </td> <td>0          </td>\n",
       "        </tr>\n",
       "        <tr>\n",
       "            <td>4                </td> <td>0          </td> <td>0         </td> <td>0                 </td> <td>1          </td> <td>0           </td> <td>51            </td> <td>2           </td> <td>0              </td> <td>0           </td> <td>0                       </td> <td>3          </td> <td>2          </td> <td>0       </td> <td>0         </td> <td>0        </td> <td>5           </td> <td>0          </td> <td>0       </td> <td>0         </td> <td>0           </td> <td>0            </td> <td>0        </td> <td>0           </td> <td>2                </td> <td>0           </td> <td>0            </td> <td>0              </td> <td>0           </td> <td>0          </td> <td>0           </td> <td>1         </td> <td>2                </td> <td>2             </td> <td>0             </td> <td>23          </td> <td>1                 </td> <td>0               </td> <td>0                           </td> <td>0       </td> <td>0           </td> <td>3         </td> <td>0               </td> <td>0              </td> <td>2               </td> <td>0                 </td> <td>0               </td> <td>1            </td> <td>3        </td> <td>0       </td> <td>0          </td> <td>0                 </td> <td>0           </td> <td>70            </td> <td>0                </td> <td>0            </td> <td>0          </td>\n",
       "        </tr>\n",
       "        <tr>\n",
       "            <td>5                </td> <td>0          </td> <td>0         </td> <td>0                 </td> <td>2          </td> <td>0           </td> <td>59            </td> <td>8           </td> <td>0              </td> <td>0           </td> <td>0                       </td> <td>3          </td> <td>3          </td> <td>0       </td> <td>0         </td> <td>0        </td> <td>5           </td> <td>1          </td> <td>0       </td> <td>0         </td> <td>1           </td> <td>0            </td> <td>0        </td> <td>3           </td> <td>6                </td> <td>0           </td> <td>1            </td> <td>0              </td> <td>0           </td> <td>0          </td> <td>1           </td> <td>2         </td> <td>2                </td> <td>2             </td> <td>0             </td> <td>31          </td> <td>2                 </td> <td>0               </td> <td>0                           </td> <td>0       </td> <td>0           </td> <td>3         </td> <td>2               </td> <td>0              </td> <td>2               </td> <td>0                 </td> <td>0               </td> <td>1            </td> <td>4        </td> <td>0       </td> <td>0          </td> <td>0                 </td> <td>0           </td> <td>78            </td> <td>0                </td> <td>0            </td> <td>0          </td>\n",
       "        </tr>\n",
       "        <tr>\n",
       "            <td>6                </td> <td>0          </td> <td>0         </td> <td>0                 </td> <td>4          </td> <td>0           </td> <td>81            </td> <td>8           </td> <td>0              </td> <td>0           </td> <td>0                       </td> <td>7          </td> <td>5          </td> <td>0       </td> <td>1         </td> <td>0        </td> <td>6           </td> <td>1          </td> <td>0       </td> <td>0         </td> <td>1           </td> <td>0            </td> <td>0        </td> <td>3           </td> <td>6                </td> <td>0           </td> <td>1            </td> <td>0              </td> <td>0           </td> <td>0          </td> <td>1           </td> <td>2         </td> <td>2                </td> <td>4             </td> <td>0             </td> <td>76          </td> <td>2                 </td> <td>0               </td> <td>0                           </td> <td>0       </td> <td>1           </td> <td>6         </td> <td>2               </td> <td>0              </td> <td>3               </td> <td>2                 </td> <td>0               </td> <td>1            </td> <td>8        </td> <td>1       </td> <td>0          </td> <td>0                 </td> <td>0           </td> <td>102           </td> <td>0                </td> <td>0            </td> <td>0          </td>\n",
       "        </tr>\n",
       "        <tr>\n",
       "            <td>7                </td> <td>0          </td> <td>0         </td> <td>0                 </td> <td>4          </td> <td>0           </td> <td>95            </td> <td>8           </td> <td>0              </td> <td>0           </td> <td>0                       </td> <td>10         </td> <td>5          </td> <td>0       </td> <td>1         </td> <td>0        </td> <td>7           </td> <td>2          </td> <td>0       </td> <td>1         </td> <td>1           </td> <td>0            </td> <td>0        </td> <td>5           </td> <td>22               </td> <td>0           </td> <td>1            </td> <td>0              </td> <td>1           </td> <td>0          </td> <td>1           </td> <td>4         </td> <td>4                </td> <td>5             </td> <td>0             </td> <td>106         </td> <td>2                 </td> <td>0               </td> <td>0                           </td> <td>0       </td> <td>1           </td> <td>14        </td> <td>6               </td> <td>0              </td> <td>3               </td> <td>2                 </td> <td>0               </td> <td>3            </td> <td>11       </td> <td>1       </td> <td>1          </td> <td>0                 </td> <td>2           </td> <td>122           </td> <td>0                </td> <td>0            </td> <td>0          </td>\n",
       "        </tr>\n",
       "        <tr>\n",
       "            <td>8                </td> <td>0          </td> <td>0         </td> <td>0                 </td> <td>4          </td> <td>0           </td> <td>101           </td> <td>12          </td> <td>0              </td> <td>0           </td> <td>0                       </td> <td>13         </td> <td>10         </td> <td>0       </td> <td>1         </td> <td>0        </td> <td>7           </td> <td>3          </td> <td>3       </td> <td>1         </td> <td>4           </td> <td>0            </td> <td>0        </td> <td>5           </td> <td>22               </td> <td>0           </td> <td>2            </td> <td>0              </td> <td>1           </td> <td>0          </td> <td>3           </td> <td>4         </td> <td>4                </td> <td>5             </td> <td>0             </td> <td>142         </td> <td>2                 </td> <td>0               </td> <td>0                           </td> <td>0       </td> <td>1           </td> <td>14        </td> <td>7               </td> <td>0              </td> <td>3               </td> <td>3                 </td> <td>0               </td> <td>3            </td> <td>13       </td> <td>1       </td> <td>1          </td> <td>0                 </td> <td>2           </td> <td>122           </td> <td>0                </td> <td>0            </td> <td>0          </td>\n",
       "        </tr>\n",
       "        <tr>\n",
       "            <td>9                </td> <td>0          </td> <td>0         </td> <td>0                 </td> <td>6          </td> <td>0           </td> <td>144           </td> <td>17          </td> <td>1              </td> <td>0           </td> <td>0                       </td> <td>15         </td> <td>17         </td> <td>0       </td> <td>3         </td> <td>0        </td> <td>12          </td> <td>6          </td> <td>8       </td> <td>1         </td> <td>5           </td> <td>0            </td> <td>0        </td> <td>8           </td> <td>41               </td> <td>0           </td> <td>2            </td> <td>0              </td> <td>1           </td> <td>0          </td> <td>3           </td> <td>4         </td> <td>4                </td> <td>15            </td> <td>0             </td> <td>150         </td> <td>7                 </td> <td>0               </td> <td>0                           </td> <td>3       </td> <td>2           </td> <td>14        </td> <td>12              </td> <td>0              </td> <td>3               </td> <td>7                 </td> <td>0               </td> <td>3            </td> <td>16       </td> <td>2       </td> <td>1          </td> <td>0                 </td> <td>8           </td> <td>167           </td> <td>0                </td> <td>3            </td> <td>0          </td>\n",
       "        </tr>\n",
       "    </tbody>\n",
       "</table>\n",
       "<p>... (91 rows omitted)</p>"
      ],
      "text/plain": [
       "Days since 3/1/20 | Alabama sum | Alaska sum | American Samoa sum | Arizona sum | Arkansas sum | California sum | Colorado sum | Connecticut sum | Delaware sum | District of Columbia sum | Florida sum | Georgia sum | Guam sum | Hawaii sum | Idaho sum | Illinois sum | Indiana sum | Iowa sum | Kansas sum | Kentucky sum | Louisiana sum | Maine sum | Maryland sum | Massachusetts sum | Michigan sum | Minnesota sum | Mississippi sum | Missouri sum | Montana sum | Nebraska sum | Nevada sum | New Hampshire sum | New Jersey sum | New Mexico sum | New York sum | North Carolina sum | North Dakota sum | Northern Mariana Islands sum | Ohio sum | Oklahoma sum | Oregon sum | Pennsylvania sum | Puerto Rico sum | Rhode Island sum | South Carolina sum | South Dakota sum | Tennessee sum | Texas sum | Utah sum | Vermont sum | Virgin Islands sum | Virginia sum | Washington sum | West Virginia sum | Wisconsin sum | Wyoming sum\n",
       "0                 | 0           | 0          | 0                  | 1           | 0            | 12             | 0            | 0               | 0            | 0                        | 0           | 0           | 0        | 0          | 0         | 3            | 0           | 0        | 0          | 0            | 0             | 0         | 0            | 1                 | 0            | 0             | 0               | 0            | 0           | 0            | 0          | 0                 | 0              | 0              | 0            | 0                  | 0                | 0                            | 0        | 0            | 1          | 0                | 0               | 1                | 0                  | 0                | 0             | 0         | 0        | 0           | 0                  | 0            | 11             | 0                 | 0             | 0\n",
       "1                 | 0           | 0          | 0                  | 1           | 0            | 21             | 0            | 0               | 0            | 0                        | 1           | 0           | 0        | 0          | 0         | 4            | 0           | 0        | 0          | 0            | 0             | 0         | 0            | 1                 | 0            | 0             | 0               | 0            | 0           | 0            | 0          | 1                 | 0              | 0              | 1            | 0                  | 0                | 0                            | 0        | 0            | 3          | 0                | 0               | 2                | 0                  | 0                | 0             | 0         | 0        | 0           | 0                  | 0            | 18             | 0                 | 0             | 0\n",
       "2                 | 0           | 0          | 0                  | 1           | 0            | 25             | 0            | 0               | 0            | 0                        | 2           | 2           | 0        | 0          | 0         | 4            | 0           | 0        | 0          | 0            | 0             | 0         | 0            | 2                 | 0            | 0             | 0               | 0            | 0           | 0            | 0          | 2                 | 0              | 0              | 2            | 1                  | 0                | 0                            | 0        | 0            | 3          | 0                | 0               | 2                | 0                  | 0                | 0             | 0         | 0        | 0           | 0                  | 0            | 27             | 0                 | 0             | 0\n",
       "3                 | 0           | 0          | 0                  | 1           | 0            | 35             | 0            | 0               | 0            | 0                        | 2           | 2           | 0        | 0          | 0         | 4            | 0           | 0        | 0          | 0            | 0             | 0         | 0            | 2                 | 0            | 0             | 0               | 0            | 0           | 0            | 0          | 2                 | 0              | 0              | 11           | 1                  | 0                | 0                            | 0        | 0            | 3          | 0                | 0               | 2                | 0                  | 0                | 0             | 0         | 0        | 0           | 0                  | 0            | 39             | 0                 | 0             | 0\n",
       "4                 | 0           | 0          | 0                  | 1           | 0            | 51             | 2            | 0               | 0            | 0                        | 3           | 2           | 0        | 0          | 0         | 5            | 0           | 0        | 0          | 0            | 0             | 0         | 0            | 2                 | 0            | 0             | 0               | 0            | 0           | 0            | 1          | 2                 | 2              | 0              | 23           | 1                  | 0                | 0                            | 0        | 0            | 3          | 0                | 0               | 2                | 0                  | 0                | 1             | 3         | 0        | 0           | 0                  | 0            | 70             | 0                 | 0             | 0\n",
       "5                 | 0           | 0          | 0                  | 2           | 0            | 59             | 8            | 0               | 0            | 0                        | 3           | 3           | 0        | 0          | 0         | 5            | 1           | 0        | 0          | 1            | 0             | 0         | 3            | 6                 | 0            | 1             | 0               | 0            | 0           | 1            | 2          | 2                 | 2              | 0              | 31           | 2                  | 0                | 0                            | 0        | 0            | 3          | 2                | 0               | 2                | 0                  | 0                | 1             | 4         | 0        | 0           | 0                  | 0            | 78             | 0                 | 0             | 0\n",
       "6                 | 0           | 0          | 0                  | 4           | 0            | 81             | 8            | 0               | 0            | 0                        | 7           | 5           | 0        | 1          | 0         | 6            | 1           | 0        | 0          | 1            | 0             | 0         | 3            | 6                 | 0            | 1             | 0               | 0            | 0           | 1            | 2          | 2                 | 4              | 0              | 76           | 2                  | 0                | 0                            | 0        | 1            | 6          | 2                | 0               | 3                | 2                  | 0                | 1             | 8         | 1        | 0           | 0                  | 0            | 102            | 0                 | 0             | 0\n",
       "7                 | 0           | 0          | 0                  | 4           | 0            | 95             | 8            | 0               | 0            | 0                        | 10          | 5           | 0        | 1          | 0         | 7            | 2           | 0        | 1          | 1            | 0             | 0         | 5            | 22                | 0            | 1             | 0               | 1            | 0           | 1            | 4          | 4                 | 5              | 0              | 106          | 2                  | 0                | 0                            | 0        | 1            | 14         | 6                | 0               | 3                | 2                  | 0                | 3             | 11        | 1        | 1           | 0                  | 2            | 122            | 0                 | 0             | 0\n",
       "8                 | 0           | 0          | 0                  | 4           | 0            | 101            | 12           | 0               | 0            | 0                        | 13          | 10          | 0        | 1          | 0         | 7            | 3           | 3        | 1          | 4            | 0             | 0         | 5            | 22                | 0            | 2             | 0               | 1            | 0           | 3            | 4          | 4                 | 5              | 0              | 142          | 2                  | 0                | 0                            | 0        | 1            | 14         | 7                | 0               | 3                | 3                  | 0                | 3             | 13        | 1        | 1           | 0                  | 2            | 122            | 0                 | 0             | 0\n",
       "9                 | 0           | 0          | 0                  | 6           | 0            | 144            | 17           | 1               | 0            | 0                        | 15          | 17          | 0        | 3          | 0         | 12           | 6           | 8        | 1          | 5            | 0             | 0         | 8            | 41                | 0            | 2             | 0               | 1            | 0           | 3            | 4          | 4                 | 15             | 0              | 150          | 7                  | 0                | 0                            | 3        | 2            | 14         | 12               | 0               | 3                | 7                  | 0                | 3             | 16        | 2        | 1           | 0                  | 8            | 167            | 0                 | 3             | 0\n",
       "... (91 rows omitted)"
      ]
     },
     "execution_count": 27,
     "metadata": {},
     "output_type": "execute_result"
    }
   ],
   "source": [
    "covid_by_state.group(\"Days since 3/1/20\", sum)"
   ]
  },
  {
   "cell_type": "markdown",
   "metadata": {},
   "source": [
    "Source: How Math (and Vaccines) Keep You Safe From the Flu by Patrick Honner (Quanta Magazine)"
   ]
  }
 ],
 "metadata": {
  "kernelspec": {
   "display_name": "Python 3",
   "language": "python",
   "name": "python3"
  },
  "language_info": {
   "codemirror_mode": {
    "name": "ipython",
    "version": 3
   },
   "file_extension": ".py",
   "mimetype": "text/x-python",
   "name": "python",
   "nbconvert_exporter": "python",
   "pygments_lexer": "ipython3",
   "version": "3.6.9"
  }
 },
 "nbformat": 4,
 "nbformat_minor": 4
}

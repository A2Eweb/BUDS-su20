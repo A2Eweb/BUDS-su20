{
 "cells": [
  {
   "cell_type": "code",
   "execution_count": 2,
   "metadata": {},
   "outputs": [],
   "source": [
    "import pandas as pd\n",
    "import numpy as np\n",
    "from datascience import *\n",
    "from datascience import Table\n",
    "import matplotlib\n",
    "\n",
    "%matplotlib inline\n",
    "import matplotlib.pyplot as plt\n",
    "import numpy as np\n",
    "plt.style.use('fivethirtyeight')"
   ]
  },
  {
   "cell_type": "markdown",
   "metadata": {},
   "source": [
    "# Project 1: Covid-19 and Exponential Growth"
   ]
  },
  {
   "cell_type": "markdown",
   "metadata": {},
   "source": [
    "## Table of Contents\n",
    "<a href='#section 0'>Background Knowledge: Spread of Disease</a>\n",
    "\n",
    "1.  <a href='#section 1'> The Data Science Life Cycle</a>\n",
    "\n",
    "    a. <a href='#subsection 1a'>Formulating a question or problem</a> \n",
    "\n",
    "    b. <a href='#subsection 1b'>Acquiring and cleaning data</a>\n",
    "\n",
    "    c. <a href='#subsection 1c'>Conducting exploratory data analysis</a>\n",
    "\n",
    "    d. <a href='#subsection 1d'>Using prediction and inference to draw conclusions</a>\n",
    "<br><br>"
   ]
  },
  {
   "cell_type": "markdown",
   "metadata": {},
   "source": [
    "### Background Knowledge <a id='section 0'></a>\n"
   ]
  },
  {
   "cell_type": "markdown",
   "metadata": {},
   "source": [
    "Exponential growth video: https://www.youtube.com/watch?v=MHRQ1UGKRyI&feature=youtu.be\n",
    "\n",
    "Exponential growth describes a quantity that's changing by some constant factor for every unit of time. For example, a value that is doubling every month is exponential growth. Let's look at this will a rumor. If you hear a rumor and only tell 1 other person each day, then only 11 people will know after 10 days. Now, telling 2 new people may not seem like that much of a difference, but it will end up reaching 1024 people in those 10 day instead of 11. This is exponential growth.\n",
    "<img src=\"images/rumor_img.png\" width = 500/>\n",
    "\n",
    "For diseases, different infections spread through populations at different rates. The \"basic reproductive number\", or R0, is the number of people each infected person is expected to infect if no one has been vaccinated.\n",
    "<img src=\"images/linear_v_exp.png\" width = 500/>\n"
   ]
  },
  {
   "cell_type": "markdown",
   "metadata": {},
   "source": [
    "<img src=\"images/r0.png\" width = 700/>"
   ]
  },
  {
   "cell_type": "markdown",
   "metadata": {},
   "source": [
    "#### Practice questions"
   ]
  },
  {
   "cell_type": "markdown",
   "metadata": {},
   "source": [
    "1. If a disease has an R0 of 4, and 100 people come into contact with an infected individual on average, what is the probability that any one friend becomes infected? Hint: look at the middle diagram above."
   ]
  },
  {
   "cell_type": "markdown",
   "metadata": {},
   "source": [
    "*Insert your answer here, replacing this text.*"
   ]
  },
  {
   "cell_type": "markdown",
   "metadata": {},
   "source": [
    "2. How many of the 100 friends would need to be vaccinated to bring the R0 down to 1? (a linear rate instead of an exponential rate)"
   ]
  },
  {
   "cell_type": "markdown",
   "metadata": {},
   "source": [
    "*Insert your answer here, replacing this text.*"
   ]
  },
  {
   "cell_type": "markdown",
   "metadata": {},
   "source": [
    "# The Data Science Life Cycle <a id='section 1'></a>"
   ]
  },
  {
   "cell_type": "markdown",
   "metadata": {},
   "source": [
    "## Formulating a question or problem <a id='subsection 1a'></a>\n",
    "It is important to ask questions that will be informative and that will avoid misleading results. There are many different questions we could ask about Covid-19, for example, many researchers use data to predict the outcomes based on intervention techniques such as social distancing. https://www.washingtonpost.com/graphics/2020/world/corona-simulator/ "
   ]
  },
  {
   "cell_type": "markdown",
   "metadata": {},
   "source": [
    "<div class=\"alert alert-warning\">\n",
    "<b>Question:</b> Take some time to formulate questions you have about this pandemic and the data you would need to answer the question.\n",
    "    \n",
    "   </div>\n"
   ]
  },
  {
   "cell_type": "markdown",
   "metadata": {},
   "source": [
    "Your questions: *here*\n",
    "\n",
    "\n",
    "Data you would need: *here*"
   ]
  },
  {
   "cell_type": "markdown",
   "metadata": {},
   "source": [
    "## Acquiring and cleaning data <a id='subsection 1b'></a>\n",
    "\n",
    "We'll be looking at the COVID-19 Data Repository from Johns Hopkins University. You can find the raw data [here](https://github.com/CSSEGISandData/COVID-19). We've cleaned up the datasets a bit, but we will be investigating the number of confirmed cases and the number of new cases in the United States from March to June.\n",
    "\n",
    "The following table, `confirmed_cases`, contains the number of confirmed cases at the start of each month for every county in the United States.\n",
    "\n",
    "First, we will load the raw data (a dataset that has not been proccessed yet for use) and look for any missing values or obvious errors."
   ]
  },
  {
   "cell_type": "code",
   "execution_count": 6,
   "metadata": {},
   "outputs": [
    {
     "data": {
      "text/html": [
       "<table border=\"1\" class=\"dataframe\">\n",
       "    <thead>\n",
       "        <tr>\n",
       "            <th>County</th> <th>State</th> <th>Combined_Key</th> <th>3/1/2020</th> <th>4/1/2020</th> <th>5/1/2020</th> <th>6/1/2020</th>\n",
       "        </tr>\n",
       "    </thead>\n",
       "    <tbody>\n",
       "        <tr>\n",
       "            <td>nan    </td> <td>American Samoa          </td> <td>American Samoa, US          </td> <td>0       </td> <td>0       </td> <td>0       </td> <td>0       </td>\n",
       "        </tr>\n",
       "        <tr>\n",
       "            <td>nan    </td> <td>Guam                    </td> <td>Guam, US                    </td> <td>0       </td> <td>77      </td> <td>145     </td> <td>175     </td>\n",
       "        </tr>\n",
       "        <tr>\n",
       "            <td>nan    </td> <td>Northern Mariana Islands</td> <td>Northern Mariana Islands, US</td> <td>0       </td> <td>6       </td> <td>14      </td> <td>22      </td>\n",
       "        </tr>\n",
       "        <tr>\n",
       "            <td>nan    </td> <td>Puerto Rico             </td> <td>Puerto Rico, US             </td> <td>0       </td> <td>286     </td> <td>1575    </td> <td>3873    </td>\n",
       "        </tr>\n",
       "        <tr>\n",
       "            <td>nan    </td> <td>Virgin Islands          </td> <td>Virgin Islands, US          </td> <td>0       </td> <td>30      </td> <td>66      </td> <td>70      </td>\n",
       "        </tr>\n",
       "        <tr>\n",
       "            <td>Autauga</td> <td>Alabama                 </td> <td>Autauga, Alabama, US        </td> <td>0       </td> <td>8       </td> <td>42      </td> <td>233     </td>\n",
       "        </tr>\n",
       "        <tr>\n",
       "            <td>Baldwin</td> <td>Alabama                 </td> <td>Baldwin, Alabama, US        </td> <td>0       </td> <td>20      </td> <td>175     </td> <td>292     </td>\n",
       "        </tr>\n",
       "        <tr>\n",
       "            <td>Barbour</td> <td>Alabama                 </td> <td>Barbour, Alabama, US        </td> <td>0       </td> <td>0       </td> <td>42      </td> <td>172     </td>\n",
       "        </tr>\n",
       "        <tr>\n",
       "            <td>Bibb   </td> <td>Alabama                 </td> <td>Bibb, Alabama, US           </td> <td>0       </td> <td>3       </td> <td>42      </td> <td>76      </td>\n",
       "        </tr>\n",
       "        <tr>\n",
       "            <td>Blount </td> <td>Alabama                 </td> <td>Blount, Alabama, US         </td> <td>0       </td> <td>5       </td> <td>39      </td> <td>63      </td>\n",
       "        </tr>\n",
       "    </tbody>\n",
       "</table>\n",
       "<p>... (3249 rows omitted)</p>"
      ],
      "text/plain": [
       "<IPython.core.display.HTML object>"
      ]
     },
     "metadata": {},
     "output_type": "display_data"
    }
   ],
   "source": [
    "confirmed_cases = Table().read_table(\"data/covid_by_county.csv\")\n",
    "confirmed_cases.show(10)"
   ]
  },
  {
   "cell_type": "markdown",
   "metadata": {},
   "source": [
    "<div class=\"alert alert-warning\">\n",
    "<b>Question:</b> We want to learn more about the dataset. First, how many total rows are in this table? What does each row represent?\n",
    "    \n",
    "   </div>"
   ]
  },
  {
   "cell_type": "code",
   "execution_count": 12,
   "metadata": {},
   "outputs": [
    {
     "data": {
      "text/plain": [
       "3244"
      ]
     },
     "execution_count": 12,
     "metadata": {},
     "output_type": "execute_result"
    }
   ],
   "source": [
    "table.num_rows"
   ]
  },
  {
   "cell_type": "markdown",
   "metadata": {},
   "source": [
    "[Write your answer here]"
   ]
  },
  {
   "cell_type": "code",
   "execution_count": null,
   "metadata": {},
   "outputs": [],
   "source": [
    "table = "
   ]
  },
  {
   "cell_type": "markdown",
   "metadata": {},
   "source": [
    "Source: How Math (and Vaccines) Keep You Safe From the Flu by Patrick Honner (Quanta Magazine)"
   ]
  },
  {
   "cell_type": "code",
   "execution_count": null,
   "metadata": {},
   "outputs": [],
   "source": []
  }
 ],
 "metadata": {
  "kernelspec": {
   "display_name": "Python 3",
   "language": "python",
   "name": "python3"
  },
  "language_info": {
   "codemirror_mode": {
    "name": "ipython",
    "version": 3
   },
   "file_extension": ".py",
   "mimetype": "text/x-python",
   "name": "python",
   "nbconvert_exporter": "python",
   "pygments_lexer": "ipython3",
   "version": "3.6.9"
  }
 },
 "nbformat": 4,
 "nbformat_minor": 4
}
